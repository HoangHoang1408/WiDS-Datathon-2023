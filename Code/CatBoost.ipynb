{
 "cells": [
  {
   "cell_type": "code",
   "execution_count": 84,
   "metadata": {},
   "outputs": [],
   "source": [
    "import numpy as np\n",
    "import pandas as pd\n",
    "import matplotlib.pyplot as plt\n",
    "from matplotlib import rcParams\n",
    "import seaborn as sns\n",
    "import warnings\n",
    "\n",
    "sns.set()\n",
    "rcParams['figure.figsize'] = (20,10)\n",
    "pd.options.display.max_columns = None\n",
    "warnings.filterwarnings('ignore')\n",
    "\n",
    "from catboost import CatBoostRegressor\n",
    "from optuna import Trial, visualization, create_study\n",
    "\n",
    "from sklearn.metrics import mean_squared_error\n",
    "from sklearn.model_selection import KFold, train_test_split"
   ]
  },
  {
   "cell_type": "code",
   "execution_count": 85,
   "metadata": {},
   "outputs": [],
   "source": [
    "inlocal = True\n",
    "if inlocal:\n",
    "  path_to_data = '../Data/created/'\n",
    "else:\n",
    "  from google.colab import drive\n",
    "  from google.colab import output\n",
    "  output.enable_custom_widget_manager()\n",
    "  drive.mount('/content/drive')\n",
    "  path_to_data = '/content/drive/My Drive/WiDS 2023/data/'\n",
    "\n",
    "df = pd.read_csv(path_to_data + 'train_processed.csv')\n",
    "df_submit = pd.read_csv(path_to_data + 'test_processed.csv')"
   ]
  },
  {
   "cell_type": "code",
   "execution_count": 86,
   "metadata": {},
   "outputs": [],
   "source": []
  },
  {
   "cell_type": "code",
   "execution_count": 115,
   "metadata": {},
   "outputs": [],
   "source": [
    "target = 'contest_tmp2m_14d__tmp2m'\n",
    "df.index = pd.RangeIndex(start=0, stop=len(df), step=1)\n",
    "X_train_temp, X_test, y_train_temp, y_test = train_test_split(df.drop(target, axis=1), df[target], test_size=0.05, shuffle=False)\n",
    "X_train, X_val, y_train, y_val = train_test_split(X_train_temp, y_train_temp, test_size=0.15, shuffle=False)"
   ]
  },
  {
   "cell_type": "code",
   "execution_count": 118,
   "metadata": {},
   "outputs": [],
   "source": [
    "def objective(trial: Trial):\n",
    "  params = {\n",
    "    'random_seed': 42,\n",
    "    'iterations': 10000,\n",
    "    'learning_rate': trial.suggest_float('learning_rate', 0.05, 0.15),\n",
    "  }\n",
    "\n",
    "  model = CatBoostRegressor(\n",
    "    **params,\n",
    "    cat_features=['lat', 'lon', 'climateregions__climateregion', 'elevation__elevation', 'mjo1d__phase', 'month', 'week', 'is_mei__nip_3', 'location', 'day'],\n",
    "    loss_function= 'RMSE',\n",
    "    eval_metric= 'RMSE',\n",
    "    # task_type= 'GPU',\n",
    "    # devices= '0:1',\n",
    "  )\n",
    "\n",
    "  model.fit(\n",
    "    X_train, y_train,\n",
    "    eval_set=(X_val, y_val), \n",
    "    early_stopping_rounds=200, \n",
    "    verbose=False,\n",
    "    plot=True,\n",
    "  )\n",
    "  \n",
    "  preds = model.predict(X_val)\n",
    "  mse = mean_squared_error(y_val, preds)\n",
    "  return mse"
   ]
  },
  {
   "cell_type": "code",
   "execution_count": 119,
   "metadata": {},
   "outputs": [
    {
     "name": "stderr",
     "output_type": "stream",
     "text": [
      "\u001b[32m[I 2023-01-23 20:57:08,081]\u001b[0m A new study created in memory with name: catboost\u001b[0m\n"
     ]
    },
    {
     "data": {
      "application/vnd.jupyter.widget-view+json": {
       "model_id": "89d957e6de9c499d96dbdec3959977d5",
       "version_major": 2,
       "version_minor": 0
      },
      "text/plain": [
       "MetricVisualizer(layout=Layout(align_self='stretch', height='500px'))"
      ]
     },
     "metadata": {},
     "output_type": "display_data"
    },
    {
     "name": "stderr",
     "output_type": "stream",
     "text": [
      "\u001b[32m[I 2023-01-23 20:58:46,090]\u001b[0m Trial 0 finished with value: 2.655847162373183 and parameters: {'learning_rate': 0.0788729691817006}. Best is trial 0 with value: 2.655847162373183.\u001b[0m\n"
     ]
    },
    {
     "data": {
      "application/vnd.jupyter.widget-view+json": {
       "model_id": "df26879592694f80a74a6ffbe74048e2",
       "version_major": 2,
       "version_minor": 0
      },
      "text/plain": [
       "MetricVisualizer(layout=Layout(align_self='stretch', height='500px'))"
      ]
     },
     "metadata": {},
     "output_type": "display_data"
    },
    {
     "name": "stderr",
     "output_type": "stream",
     "text": [
      "\u001b[32m[I 2023-01-23 21:00:18,157]\u001b[0m Trial 1 finished with value: 2.9292443819881746 and parameters: {'learning_rate': 0.06805647781024136}. Best is trial 0 with value: 2.655847162373183.\u001b[0m\n"
     ]
    },
    {
     "data": {
      "application/vnd.jupyter.widget-view+json": {
       "model_id": "543e008bf2634cb3875e3702f5297a2b",
       "version_major": 2,
       "version_minor": 0
      },
      "text/plain": [
       "MetricVisualizer(layout=Layout(align_self='stretch', height='500px'))"
      ]
     },
     "metadata": {},
     "output_type": "display_data"
    },
    {
     "name": "stderr",
     "output_type": "stream",
     "text": [
      "\u001b[32m[I 2023-01-23 21:01:32,234]\u001b[0m Trial 2 finished with value: 2.8109540930348023 and parameters: {'learning_rate': 0.11293143595147728}. Best is trial 0 with value: 2.655847162373183.\u001b[0m\n"
     ]
    },
    {
     "data": {
      "application/vnd.jupyter.widget-view+json": {
       "model_id": "14e018c1d74944c49734fb05dc6626e8",
       "version_major": 2,
       "version_minor": 0
      },
      "text/plain": [
       "MetricVisualizer(layout=Layout(align_self='stretch', height='500px'))"
      ]
     },
     "metadata": {},
     "output_type": "display_data"
    },
    {
     "name": "stderr",
     "output_type": "stream",
     "text": [
      "\u001b[33m[W 2023-01-23 21:02:00,174]\u001b[0m Trial 3 failed because of the following error: KeyboardInterrupt('')\u001b[0m\n",
      "Traceback (most recent call last):\n",
      "  File \"/Library/Frameworks/Python.framework/Versions/3.10/lib/python3.10/site-packages/optuna/study/_optimize.py\", line 196, in _run_trial\n",
      "    value_or_values = func(trial)\n",
      "  File \"/var/folders/sx/c_sxyj753hx_sjy7c76rlnt00000gn/T/ipykernel_57546/4060173120.py\", line 15, in objective\n",
      "    model.fit(\n",
      "  File \"/Library/Frameworks/Python.framework/Versions/3.10/lib/python3.10/site-packages/catboost/core.py\", line 5730, in fit\n",
      "    return self._fit(X, y, cat_features, text_features, embedding_features, None, sample_weight, None, None, None, None, baseline,\n",
      "  File \"/Library/Frameworks/Python.framework/Versions/3.10/lib/python3.10/site-packages/catboost/core.py\", line 2355, in _fit\n",
      "    self._train(\n",
      "  File \"/Library/Frameworks/Python.framework/Versions/3.10/lib/python3.10/site-packages/catboost/core.py\", line 1759, in _train\n",
      "    self._object._train(train_pool, test_pool, params, allow_clear_pool, init_model._object if init_model else None)\n",
      "  File \"_catboost.pyx\", line 4623, in _catboost._CatBoost._train\n",
      "  File \"_catboost.pyx\", line 4672, in _catboost._CatBoost._train\n",
      "KeyboardInterrupt\n"
     ]
    },
    {
     "ename": "KeyboardInterrupt",
     "evalue": "",
     "output_type": "error",
     "traceback": [
      "\u001b[0;31m---------------------------------------------------------------------------\u001b[0m",
      "\u001b[0;31mKeyboardInterrupt\u001b[0m                         Traceback (most recent call last)",
      "\u001b[1;32m/Users/phamhoang1408/Desktop/WiDS/Code/CatBoost.ipynb Cell 6\u001b[0m in \u001b[0;36m<cell line: 5>\u001b[0;34m()\u001b[0m\n\u001b[1;32m      <a href='vscode-notebook-cell:/Users/phamhoang1408/Desktop/WiDS/Code/CatBoost.ipynb#X10sZmlsZQ%3D%3D?line=0'>1</a>\u001b[0m study \u001b[39m=\u001b[39m create_study(\n\u001b[1;32m      <a href='vscode-notebook-cell:/Users/phamhoang1408/Desktop/WiDS/Code/CatBoost.ipynb#X10sZmlsZQ%3D%3D?line=1'>2</a>\u001b[0m   direction\u001b[39m=\u001b[39m\u001b[39m'\u001b[39m\u001b[39mminimize\u001b[39m\u001b[39m'\u001b[39m,\n\u001b[1;32m      <a href='vscode-notebook-cell:/Users/phamhoang1408/Desktop/WiDS/Code/CatBoost.ipynb#X10sZmlsZQ%3D%3D?line=2'>3</a>\u001b[0m   study_name\u001b[39m=\u001b[39m\u001b[39m'\u001b[39m\u001b[39mcatboost\u001b[39m\u001b[39m'\u001b[39m,\n\u001b[1;32m      <a href='vscode-notebook-cell:/Users/phamhoang1408/Desktop/WiDS/Code/CatBoost.ipynb#X10sZmlsZQ%3D%3D?line=3'>4</a>\u001b[0m )\n\u001b[0;32m----> <a href='vscode-notebook-cell:/Users/phamhoang1408/Desktop/WiDS/Code/CatBoost.ipynb#X10sZmlsZQ%3D%3D?line=4'>5</a>\u001b[0m study\u001b[39m.\u001b[39;49moptimize(objective, n_trials\u001b[39m=\u001b[39;49m\u001b[39m10\u001b[39;49m)\n",
      "File \u001b[0;32m/Library/Frameworks/Python.framework/Versions/3.10/lib/python3.10/site-packages/optuna/study/study.py:419\u001b[0m, in \u001b[0;36mStudy.optimize\u001b[0;34m(self, func, n_trials, timeout, n_jobs, catch, callbacks, gc_after_trial, show_progress_bar)\u001b[0m\n\u001b[1;32m    315\u001b[0m \u001b[39mdef\u001b[39;00m \u001b[39moptimize\u001b[39m(\n\u001b[1;32m    316\u001b[0m     \u001b[39mself\u001b[39m,\n\u001b[1;32m    317\u001b[0m     func: ObjectiveFuncType,\n\u001b[0;32m   (...)\u001b[0m\n\u001b[1;32m    324\u001b[0m     show_progress_bar: \u001b[39mbool\u001b[39m \u001b[39m=\u001b[39m \u001b[39mFalse\u001b[39;00m,\n\u001b[1;32m    325\u001b[0m ) \u001b[39m-\u001b[39m\u001b[39m>\u001b[39m \u001b[39mNone\u001b[39;00m:\n\u001b[1;32m    326\u001b[0m     \u001b[39m\"\"\"Optimize an objective function.\u001b[39;00m\n\u001b[1;32m    327\u001b[0m \n\u001b[1;32m    328\u001b[0m \u001b[39m    Optimization is done by choosing a suitable set of hyperparameter values from a given\u001b[39;00m\n\u001b[0;32m   (...)\u001b[0m\n\u001b[1;32m    416\u001b[0m \u001b[39m            If nested invocation of this method occurs.\u001b[39;00m\n\u001b[1;32m    417\u001b[0m \u001b[39m    \"\"\"\u001b[39;00m\n\u001b[0;32m--> 419\u001b[0m     _optimize(\n\u001b[1;32m    420\u001b[0m         study\u001b[39m=\u001b[39;49m\u001b[39mself\u001b[39;49m,\n\u001b[1;32m    421\u001b[0m         func\u001b[39m=\u001b[39;49mfunc,\n\u001b[1;32m    422\u001b[0m         n_trials\u001b[39m=\u001b[39;49mn_trials,\n\u001b[1;32m    423\u001b[0m         timeout\u001b[39m=\u001b[39;49mtimeout,\n\u001b[1;32m    424\u001b[0m         n_jobs\u001b[39m=\u001b[39;49mn_jobs,\n\u001b[1;32m    425\u001b[0m         catch\u001b[39m=\u001b[39;49mcatch,\n\u001b[1;32m    426\u001b[0m         callbacks\u001b[39m=\u001b[39;49mcallbacks,\n\u001b[1;32m    427\u001b[0m         gc_after_trial\u001b[39m=\u001b[39;49mgc_after_trial,\n\u001b[1;32m    428\u001b[0m         show_progress_bar\u001b[39m=\u001b[39;49mshow_progress_bar,\n\u001b[1;32m    429\u001b[0m     )\n",
      "File \u001b[0;32m/Library/Frameworks/Python.framework/Versions/3.10/lib/python3.10/site-packages/optuna/study/_optimize.py:66\u001b[0m, in \u001b[0;36m_optimize\u001b[0;34m(study, func, n_trials, timeout, n_jobs, catch, callbacks, gc_after_trial, show_progress_bar)\u001b[0m\n\u001b[1;32m     64\u001b[0m \u001b[39mtry\u001b[39;00m:\n\u001b[1;32m     65\u001b[0m     \u001b[39mif\u001b[39;00m n_jobs \u001b[39m==\u001b[39m \u001b[39m1\u001b[39m:\n\u001b[0;32m---> 66\u001b[0m         _optimize_sequential(\n\u001b[1;32m     67\u001b[0m             study,\n\u001b[1;32m     68\u001b[0m             func,\n\u001b[1;32m     69\u001b[0m             n_trials,\n\u001b[1;32m     70\u001b[0m             timeout,\n\u001b[1;32m     71\u001b[0m             catch,\n\u001b[1;32m     72\u001b[0m             callbacks,\n\u001b[1;32m     73\u001b[0m             gc_after_trial,\n\u001b[1;32m     74\u001b[0m             reseed_sampler_rng\u001b[39m=\u001b[39;49m\u001b[39mFalse\u001b[39;49;00m,\n\u001b[1;32m     75\u001b[0m             time_start\u001b[39m=\u001b[39;49m\u001b[39mNone\u001b[39;49;00m,\n\u001b[1;32m     76\u001b[0m             progress_bar\u001b[39m=\u001b[39;49mprogress_bar,\n\u001b[1;32m     77\u001b[0m         )\n\u001b[1;32m     78\u001b[0m     \u001b[39melse\u001b[39;00m:\n\u001b[1;32m     79\u001b[0m         \u001b[39mif\u001b[39;00m n_jobs \u001b[39m==\u001b[39m \u001b[39m-\u001b[39m\u001b[39m1\u001b[39m:\n",
      "File \u001b[0;32m/Library/Frameworks/Python.framework/Versions/3.10/lib/python3.10/site-packages/optuna/study/_optimize.py:160\u001b[0m, in \u001b[0;36m_optimize_sequential\u001b[0;34m(study, func, n_trials, timeout, catch, callbacks, gc_after_trial, reseed_sampler_rng, time_start, progress_bar)\u001b[0m\n\u001b[1;32m    157\u001b[0m         \u001b[39mbreak\u001b[39;00m\n\u001b[1;32m    159\u001b[0m \u001b[39mtry\u001b[39;00m:\n\u001b[0;32m--> 160\u001b[0m     frozen_trial \u001b[39m=\u001b[39m _run_trial(study, func, catch)\n\u001b[1;32m    161\u001b[0m \u001b[39mfinally\u001b[39;00m:\n\u001b[1;32m    162\u001b[0m     \u001b[39m# The following line mitigates memory problems that can be occurred in some\u001b[39;00m\n\u001b[1;32m    163\u001b[0m     \u001b[39m# environments (e.g., services that use computing containers such as CircleCI).\u001b[39;00m\n\u001b[1;32m    164\u001b[0m     \u001b[39m# Please refer to the following PR for further details:\u001b[39;00m\n\u001b[1;32m    165\u001b[0m     \u001b[39m# https://github.com/optuna/optuna/pull/325.\u001b[39;00m\n\u001b[1;32m    166\u001b[0m     \u001b[39mif\u001b[39;00m gc_after_trial:\n",
      "File \u001b[0;32m/Library/Frameworks/Python.framework/Versions/3.10/lib/python3.10/site-packages/optuna/study/_optimize.py:234\u001b[0m, in \u001b[0;36m_run_trial\u001b[0;34m(study, func, catch)\u001b[0m\n\u001b[1;32m    227\u001b[0m         \u001b[39massert\u001b[39;00m \u001b[39mFalse\u001b[39;00m, \u001b[39m\"\u001b[39m\u001b[39mShould not reach.\u001b[39m\u001b[39m\"\u001b[39m\n\u001b[1;32m    229\u001b[0m \u001b[39mif\u001b[39;00m (\n\u001b[1;32m    230\u001b[0m     frozen_trial\u001b[39m.\u001b[39mstate \u001b[39m==\u001b[39m TrialState\u001b[39m.\u001b[39mFAIL\n\u001b[1;32m    231\u001b[0m     \u001b[39mand\u001b[39;00m func_err \u001b[39mis\u001b[39;00m \u001b[39mnot\u001b[39;00m \u001b[39mNone\u001b[39;00m\n\u001b[1;32m    232\u001b[0m     \u001b[39mand\u001b[39;00m \u001b[39mnot\u001b[39;00m \u001b[39misinstance\u001b[39m(func_err, catch)\n\u001b[1;32m    233\u001b[0m ):\n\u001b[0;32m--> 234\u001b[0m     \u001b[39mraise\u001b[39;00m func_err\n\u001b[1;32m    235\u001b[0m \u001b[39mreturn\u001b[39;00m frozen_trial\n",
      "File \u001b[0;32m/Library/Frameworks/Python.framework/Versions/3.10/lib/python3.10/site-packages/optuna/study/_optimize.py:196\u001b[0m, in \u001b[0;36m_run_trial\u001b[0;34m(study, func, catch)\u001b[0m\n\u001b[1;32m    194\u001b[0m \u001b[39mwith\u001b[39;00m get_heartbeat_thread(trial\u001b[39m.\u001b[39m_trial_id, study\u001b[39m.\u001b[39m_storage):\n\u001b[1;32m    195\u001b[0m     \u001b[39mtry\u001b[39;00m:\n\u001b[0;32m--> 196\u001b[0m         value_or_values \u001b[39m=\u001b[39m func(trial)\n\u001b[1;32m    197\u001b[0m     \u001b[39mexcept\u001b[39;00m exceptions\u001b[39m.\u001b[39mTrialPruned \u001b[39mas\u001b[39;00m e:\n\u001b[1;32m    198\u001b[0m         \u001b[39m# TODO(mamu): Handle multi-objective cases.\u001b[39;00m\n\u001b[1;32m    199\u001b[0m         state \u001b[39m=\u001b[39m TrialState\u001b[39m.\u001b[39mPRUNED\n",
      "\u001b[1;32m/Users/phamhoang1408/Desktop/WiDS/Code/CatBoost.ipynb Cell 6\u001b[0m in \u001b[0;36mobjective\u001b[0;34m(trial)\u001b[0m\n\u001b[1;32m      <a href='vscode-notebook-cell:/Users/phamhoang1408/Desktop/WiDS/Code/CatBoost.ipynb#X10sZmlsZQ%3D%3D?line=1'>2</a>\u001b[0m params \u001b[39m=\u001b[39m {\n\u001b[1;32m      <a href='vscode-notebook-cell:/Users/phamhoang1408/Desktop/WiDS/Code/CatBoost.ipynb#X10sZmlsZQ%3D%3D?line=2'>3</a>\u001b[0m   \u001b[39m'\u001b[39m\u001b[39mrandom_seed\u001b[39m\u001b[39m'\u001b[39m: \u001b[39m42\u001b[39m,\n\u001b[1;32m      <a href='vscode-notebook-cell:/Users/phamhoang1408/Desktop/WiDS/Code/CatBoost.ipynb#X10sZmlsZQ%3D%3D?line=3'>4</a>\u001b[0m   \u001b[39m'\u001b[39m\u001b[39mlearning_rate\u001b[39m\u001b[39m'\u001b[39m: trial\u001b[39m.\u001b[39msuggest_float(\u001b[39m'\u001b[39m\u001b[39mlearning_rate\u001b[39m\u001b[39m'\u001b[39m, \u001b[39m0.05\u001b[39m, \u001b[39m0.15\u001b[39m),\n\u001b[1;32m      <a href='vscode-notebook-cell:/Users/phamhoang1408/Desktop/WiDS/Code/CatBoost.ipynb#X10sZmlsZQ%3D%3D?line=4'>5</a>\u001b[0m }\n\u001b[1;32m      <a href='vscode-notebook-cell:/Users/phamhoang1408/Desktop/WiDS/Code/CatBoost.ipynb#X10sZmlsZQ%3D%3D?line=6'>7</a>\u001b[0m model \u001b[39m=\u001b[39m CatBoostRegressor(\n\u001b[1;32m      <a href='vscode-notebook-cell:/Users/phamhoang1408/Desktop/WiDS/Code/CatBoost.ipynb#X10sZmlsZQ%3D%3D?line=7'>8</a>\u001b[0m   \u001b[39m*\u001b[39m\u001b[39m*\u001b[39mparams,\n\u001b[1;32m      <a href='vscode-notebook-cell:/Users/phamhoang1408/Desktop/WiDS/Code/CatBoost.ipynb#X10sZmlsZQ%3D%3D?line=8'>9</a>\u001b[0m   cat_features\u001b[39m=\u001b[39m[\u001b[39m'\u001b[39m\u001b[39mlat\u001b[39m\u001b[39m'\u001b[39m, \u001b[39m'\u001b[39m\u001b[39mlon\u001b[39m\u001b[39m'\u001b[39m, \u001b[39m'\u001b[39m\u001b[39mclimateregions__climateregion\u001b[39m\u001b[39m'\u001b[39m, \u001b[39m'\u001b[39m\u001b[39melevation__elevation\u001b[39m\u001b[39m'\u001b[39m, \u001b[39m'\u001b[39m\u001b[39mmjo1d__phase\u001b[39m\u001b[39m'\u001b[39m, \u001b[39m'\u001b[39m\u001b[39mmonth\u001b[39m\u001b[39m'\u001b[39m, \u001b[39m'\u001b[39m\u001b[39mweek\u001b[39m\u001b[39m'\u001b[39m, \u001b[39m'\u001b[39m\u001b[39mis_mei__nip_3\u001b[39m\u001b[39m'\u001b[39m, \u001b[39m'\u001b[39m\u001b[39mlocation\u001b[39m\u001b[39m'\u001b[39m, \u001b[39m'\u001b[39m\u001b[39mday\u001b[39m\u001b[39m'\u001b[39m],\n\u001b[0;32m   (...)\u001b[0m\n\u001b[1;32m     <a href='vscode-notebook-cell:/Users/phamhoang1408/Desktop/WiDS/Code/CatBoost.ipynb#X10sZmlsZQ%3D%3D?line=12'>13</a>\u001b[0m   \u001b[39m# devices= '0:1',\u001b[39;00m\n\u001b[1;32m     <a href='vscode-notebook-cell:/Users/phamhoang1408/Desktop/WiDS/Code/CatBoost.ipynb#X10sZmlsZQ%3D%3D?line=13'>14</a>\u001b[0m )\n\u001b[0;32m---> <a href='vscode-notebook-cell:/Users/phamhoang1408/Desktop/WiDS/Code/CatBoost.ipynb#X10sZmlsZQ%3D%3D?line=14'>15</a>\u001b[0m model\u001b[39m.\u001b[39;49mfit(\n\u001b[1;32m     <a href='vscode-notebook-cell:/Users/phamhoang1408/Desktop/WiDS/Code/CatBoost.ipynb#X10sZmlsZQ%3D%3D?line=15'>16</a>\u001b[0m   X_train, y_train,\n\u001b[1;32m     <a href='vscode-notebook-cell:/Users/phamhoang1408/Desktop/WiDS/Code/CatBoost.ipynb#X10sZmlsZQ%3D%3D?line=16'>17</a>\u001b[0m   eval_set\u001b[39m=\u001b[39;49m(X_val, y_val), \n\u001b[1;32m     <a href='vscode-notebook-cell:/Users/phamhoang1408/Desktop/WiDS/Code/CatBoost.ipynb#X10sZmlsZQ%3D%3D?line=17'>18</a>\u001b[0m   early_stopping_rounds\u001b[39m=\u001b[39;49m\u001b[39m200\u001b[39;49m, \n\u001b[1;32m     <a href='vscode-notebook-cell:/Users/phamhoang1408/Desktop/WiDS/Code/CatBoost.ipynb#X10sZmlsZQ%3D%3D?line=18'>19</a>\u001b[0m   verbose\u001b[39m=\u001b[39;49m\u001b[39mFalse\u001b[39;49;00m,\n\u001b[1;32m     <a href='vscode-notebook-cell:/Users/phamhoang1408/Desktop/WiDS/Code/CatBoost.ipynb#X10sZmlsZQ%3D%3D?line=19'>20</a>\u001b[0m   plot\u001b[39m=\u001b[39;49m\u001b[39mTrue\u001b[39;49;00m,\n\u001b[1;32m     <a href='vscode-notebook-cell:/Users/phamhoang1408/Desktop/WiDS/Code/CatBoost.ipynb#X10sZmlsZQ%3D%3D?line=20'>21</a>\u001b[0m )\n\u001b[1;32m     <a href='vscode-notebook-cell:/Users/phamhoang1408/Desktop/WiDS/Code/CatBoost.ipynb#X10sZmlsZQ%3D%3D?line=21'>22</a>\u001b[0m preds \u001b[39m=\u001b[39m model\u001b[39m.\u001b[39mpredict(X_val)\n\u001b[1;32m     <a href='vscode-notebook-cell:/Users/phamhoang1408/Desktop/WiDS/Code/CatBoost.ipynb#X10sZmlsZQ%3D%3D?line=22'>23</a>\u001b[0m mse \u001b[39m=\u001b[39m mean_squared_error(y_val, preds)\n",
      "File \u001b[0;32m/Library/Frameworks/Python.framework/Versions/3.10/lib/python3.10/site-packages/catboost/core.py:5730\u001b[0m, in \u001b[0;36mCatBoostRegressor.fit\u001b[0;34m(self, X, y, cat_features, text_features, embedding_features, sample_weight, baseline, use_best_model, eval_set, verbose, logging_level, plot, plot_file, column_description, verbose_eval, metric_period, silent, early_stopping_rounds, save_snapshot, snapshot_file, snapshot_interval, init_model, callbacks, log_cout, log_cerr)\u001b[0m\n\u001b[1;32m   5727\u001b[0m \u001b[39mif\u001b[39;00m \u001b[39m'\u001b[39m\u001b[39mloss_function\u001b[39m\u001b[39m'\u001b[39m \u001b[39min\u001b[39;00m params:\n\u001b[1;32m   5728\u001b[0m     CatBoostRegressor\u001b[39m.\u001b[39m_check_is_compatible_loss(params[\u001b[39m'\u001b[39m\u001b[39mloss_function\u001b[39m\u001b[39m'\u001b[39m])\n\u001b[0;32m-> 5730\u001b[0m \u001b[39mreturn\u001b[39;00m \u001b[39mself\u001b[39;49m\u001b[39m.\u001b[39;49m_fit(X, y, cat_features, text_features, embedding_features, \u001b[39mNone\u001b[39;49;00m, sample_weight, \u001b[39mNone\u001b[39;49;00m, \u001b[39mNone\u001b[39;49;00m, \u001b[39mNone\u001b[39;49;00m, \u001b[39mNone\u001b[39;49;00m, baseline,\n\u001b[1;32m   5731\u001b[0m                  use_best_model, eval_set, verbose, logging_level, plot, plot_file, column_description,\n\u001b[1;32m   5732\u001b[0m                  verbose_eval, metric_period, silent, early_stopping_rounds,\n\u001b[1;32m   5733\u001b[0m                  save_snapshot, snapshot_file, snapshot_interval, init_model, callbacks, log_cout, log_cerr)\n",
      "File \u001b[0;32m/Library/Frameworks/Python.framework/Versions/3.10/lib/python3.10/site-packages/catboost/core.py:2355\u001b[0m, in \u001b[0;36mCatBoost._fit\u001b[0;34m(self, X, y, cat_features, text_features, embedding_features, pairs, sample_weight, group_id, group_weight, subgroup_id, pairs_weight, baseline, use_best_model, eval_set, verbose, logging_level, plot, plot_file, column_description, verbose_eval, metric_period, silent, early_stopping_rounds, save_snapshot, snapshot_file, snapshot_interval, init_model, callbacks, log_cout, log_cerr)\u001b[0m\n\u001b[1;32m   2351\u001b[0m allow_clear_pool \u001b[39m=\u001b[39m train_params[\u001b[39m\"\u001b[39m\u001b[39mallow_clear_pool\u001b[39m\u001b[39m\"\u001b[39m]\n\u001b[1;32m   2353\u001b[0m \u001b[39mwith\u001b[39;00m log_fixup(log_cout, log_cerr), \\\n\u001b[1;32m   2354\u001b[0m     plot_wrapper(plot, plot_file, \u001b[39m'\u001b[39m\u001b[39mTraining plots\u001b[39m\u001b[39m'\u001b[39m, [_get_train_dir(\u001b[39mself\u001b[39m\u001b[39m.\u001b[39mget_params())]):\n\u001b[0;32m-> 2355\u001b[0m     \u001b[39mself\u001b[39;49m\u001b[39m.\u001b[39;49m_train(\n\u001b[1;32m   2356\u001b[0m         train_pool,\n\u001b[1;32m   2357\u001b[0m         train_params[\u001b[39m\"\u001b[39;49m\u001b[39meval_sets\u001b[39;49m\u001b[39m\"\u001b[39;49m],\n\u001b[1;32m   2358\u001b[0m         params,\n\u001b[1;32m   2359\u001b[0m         allow_clear_pool,\n\u001b[1;32m   2360\u001b[0m         train_params[\u001b[39m\"\u001b[39;49m\u001b[39minit_model\u001b[39;49m\u001b[39m\"\u001b[39;49m]\n\u001b[1;32m   2361\u001b[0m     )\n\u001b[1;32m   2363\u001b[0m \u001b[39m# Have property feature_importance possibly set\u001b[39;00m\n\u001b[1;32m   2364\u001b[0m loss \u001b[39m=\u001b[39m \u001b[39mself\u001b[39m\u001b[39m.\u001b[39m_object\u001b[39m.\u001b[39m_get_loss_function_name()\n",
      "File \u001b[0;32m/Library/Frameworks/Python.framework/Versions/3.10/lib/python3.10/site-packages/catboost/core.py:1759\u001b[0m, in \u001b[0;36m_CatBoostBase._train\u001b[0;34m(self, train_pool, test_pool, params, allow_clear_pool, init_model)\u001b[0m\n\u001b[1;32m   1758\u001b[0m \u001b[39mdef\u001b[39;00m \u001b[39m_train\u001b[39m(\u001b[39mself\u001b[39m, train_pool, test_pool, params, allow_clear_pool, init_model):\n\u001b[0;32m-> 1759\u001b[0m     \u001b[39mself\u001b[39;49m\u001b[39m.\u001b[39;49m_object\u001b[39m.\u001b[39;49m_train(train_pool, test_pool, params, allow_clear_pool, init_model\u001b[39m.\u001b[39;49m_object \u001b[39mif\u001b[39;49;00m init_model \u001b[39melse\u001b[39;49;00m \u001b[39mNone\u001b[39;49;00m)\n\u001b[1;32m   1760\u001b[0m     \u001b[39mself\u001b[39m\u001b[39m.\u001b[39m_set_trained_model_attributes()\n",
      "File \u001b[0;32m_catboost.pyx:4623\u001b[0m, in \u001b[0;36m_catboost._CatBoost._train\u001b[0;34m()\u001b[0m\n",
      "File \u001b[0;32m_catboost.pyx:4672\u001b[0m, in \u001b[0;36m_catboost._CatBoost._train\u001b[0;34m()\u001b[0m\n",
      "\u001b[0;31mKeyboardInterrupt\u001b[0m: "
     ]
    }
   ],
   "source": [
    "study = create_study(\n",
    "  direction='minimize',\n",
    "  study_name='catboost',\n",
    ")\n",
    "study.optimize(objective, n_trials=10)"
   ]
  },
  {
   "cell_type": "code",
   "execution_count": null,
   "metadata": {},
   "outputs": [],
   "source": [
    "import joblib\n",
    "joblib.dump(study, '/content/drive/My Drive/WiDS 2023/catboost_study.pkl')"
   ]
  },
  {
   "cell_type": "code",
   "execution_count": null,
   "metadata": {},
   "outputs": [],
   "source": [
    "study = joblib.load('/content/drive/My Drive/WiDS 2023/catboost_study.pkl')\n",
    "study.optimize(objective, n_trials=500)"
   ]
  },
  {
   "cell_type": "code",
   "execution_count": null,
   "metadata": {},
   "outputs": [],
   "source": []
  },
  {
   "cell_type": "code",
   "execution_count": null,
   "metadata": {},
   "outputs": [],
   "source": [
    "visualization.plot_optimization_history(study)\n",
    "visualization.plot_slice(study)\n",
    "visualization.plot_contour(study, params=['iterations', 'learning_rate'])\n",
    "visualization.plot_parallel_coordinate(study, params=['iterations', 'learning_rate'])\n",
    "visualization.plot_param_importances(study)"
   ]
  },
  {
   "cell_type": "code",
   "execution_count": null,
   "metadata": {},
   "outputs": [],
   "source": [
    "# get top 10 trials\n",
    "temp = study.trials_dataframe().sort_values(by='value')\n",
    "candidate = temp[['number','params_learning_rate']][~temp['params_learning_rate'].isnull()].to_dict('records')[:10]\n",
    "candidate = list(map(lambda x: (x['number'],x['params_learning_rate']), candidate))"
   ]
  },
  {
   "cell_type": "code",
   "execution_count": null,
   "metadata": {},
   "outputs": [],
   "source": [
    "for number, learning_rate in candidate:\n",
    "  params = {\n",
    "    'random_seed': 42,\n",
    "    'iterations': 10000,\n",
    "    'learning_rate': learning_rate,\n",
    "  }\n",
    "\n",
    "  model = CatBoostRegressor(\n",
    "    **params,\n",
    "    cat_features=['lat', 'lon', 'climateregions__climateregion', 'elevation__elevation', 'mjo1d__phase', 'month', 'week', 'is_mei__nip_3', 'location', 'day'],\n",
    "    loss_function= 'RMSE',\n",
    "    eval_metric= 'RMSE',\n",
    "    task_type= 'GPU',\n",
    "    devices= '0:1',\n",
    "  )\n",
    "  model.fit(\n",
    "    X_train, y_train,\n",
    "    eval_set=(X_val, y_val),\n",
    "    early_stopping_rounds=200,\n",
    "    verbose=False,\n",
    "  )\n",
    "  preds = model.predict(X_test)\n",
    "  mse = mean_squared_error(y_test, preds)\n",
    "  print(f'number: {number}, learning_rate: {learning_rate}, mse: {mse}')\n",
    "  \n",
    "    "
   ]
  },
  {
   "cell_type": "code",
   "execution_count": null,
   "metadata": {},
   "outputs": [],
   "source": [
    "# retrain model with best params\n",
    "params = study.best_params\n",
    "params['cat_features'] = ['lat', 'lon', 'climateregions__climateregion', 'elevation__elevation', 'mjo1d__phase', 'month', 'week', 'is_mei__nip_3', 'location', 'day']\n",
    "params['loss_function'] = 'RMSE'\n",
    "params['eval_metric'] = 'RMSE'\n",
    "params['random_seed'] = 42\n",
    "# params['task_type'] = 'GPU'\n",
    "# params['devices'] = '0:1'\n",
    "final_model = CatBoostRegressor(**params)\n",
    "final_model.fit(X_train, y_train, verbose=True)\n",
    "\n",
    "preds = final_model.predict(X_test)\n",
    "mse = mean_squared_error(y_test, preds)\n",
    "print(f'MSE: {mse}')"
   ]
  },
  {
   "cell_type": "code",
   "execution_count": 20,
   "metadata": {},
   "outputs": [
    {
     "ename": "NameError",
     "evalue": "name 'final_model' is not defined",
     "output_type": "error",
     "traceback": [
      "\u001b[0;31m---------------------------------------------------------------------------\u001b[0m",
      "\u001b[0;31mNameError\u001b[0m                                 Traceback (most recent call last)",
      "\u001b[1;32m/Users/phamhoang1408/Desktop/WiDS/Code/CatBoost.ipynb Cell 7\u001b[0m in \u001b[0;36m<cell line: 2>\u001b[0;34m()\u001b[0m\n\u001b[1;32m      <a href='vscode-notebook-cell:/Users/phamhoang1408/Desktop/WiDS/Code/CatBoost.ipynb#W5sZmlsZQ%3D%3D?line=0'>1</a>\u001b[0m submit_index \u001b[39m=\u001b[39m pd\u001b[39m.\u001b[39mread_csv(\u001b[39m'\u001b[39m\u001b[39m../Data/created/submit_index.csv\u001b[39m\u001b[39m'\u001b[39m)[\u001b[39m'\u001b[39m\u001b[39mindex\u001b[39m\u001b[39m'\u001b[39m]\n\u001b[0;32m----> <a href='vscode-notebook-cell:/Users/phamhoang1408/Desktop/WiDS/Code/CatBoost.ipynb#W5sZmlsZQ%3D%3D?line=1'>2</a>\u001b[0m y_submit_pred \u001b[39m=\u001b[39m final_model\u001b[39m.\u001b[39mpredict(X_submit)\n\u001b[1;32m      <a href='vscode-notebook-cell:/Users/phamhoang1408/Desktop/WiDS/Code/CatBoost.ipynb#W5sZmlsZQ%3D%3D?line=2'>3</a>\u001b[0m submit \u001b[39m=\u001b[39m pd\u001b[39m.\u001b[39mDataFrame({\n\u001b[1;32m      <a href='vscode-notebook-cell:/Users/phamhoang1408/Desktop/WiDS/Code/CatBoost.ipynb#W5sZmlsZQ%3D%3D?line=3'>4</a>\u001b[0m   \u001b[39m'\u001b[39m\u001b[39mcontest-tmp2m-14d__tmp2m\u001b[39m\u001b[39m'\u001b[39m: y_submit_pred,\n\u001b[1;32m      <a href='vscode-notebook-cell:/Users/phamhoang1408/Desktop/WiDS/Code/CatBoost.ipynb#W5sZmlsZQ%3D%3D?line=4'>5</a>\u001b[0m   \u001b[39m'\u001b[39m\u001b[39mindex\u001b[39m\u001b[39m'\u001b[39m:submit_index\n\u001b[1;32m      <a href='vscode-notebook-cell:/Users/phamhoang1408/Desktop/WiDS/Code/CatBoost.ipynb#W5sZmlsZQ%3D%3D?line=5'>6</a>\u001b[0m })\n\u001b[1;32m      <a href='vscode-notebook-cell:/Users/phamhoang1408/Desktop/WiDS/Code/CatBoost.ipynb#W5sZmlsZQ%3D%3D?line=6'>7</a>\u001b[0m submit\u001b[39m.\u001b[39mto_csv(\u001b[39m'\u001b[39m\u001b[39m../submission/cat_baseline123.csv\u001b[39m\u001b[39m'\u001b[39m, index\u001b[39m=\u001b[39m\u001b[39mFalse\u001b[39;00m)\n",
      "\u001b[0;31mNameError\u001b[0m: name 'final_model' is not defined"
     ]
    }
   ],
   "source": [
    "submit_index = pd.read_csv('../Data/created/submit_index.csv')['index']\n",
    "y_submit_pred = final_model.predict(X_submit)\n",
    "submit = pd.DataFrame({\n",
    "  'contest-tmp2m-14d__tmp2m': y_submit_pred,\n",
    "  'index':submit_index\n",
    "})\n",
    "submit.to_csv('../submission/catboost.csv', index=False)"
   ]
  },
  {
   "cell_type": "code",
   "execution_count": null,
   "metadata": {},
   "outputs": [],
   "source": []
  }
 ],
 "metadata": {
  "kernelspec": {
   "display_name": "Python 3",
   "language": "python",
   "name": "python3"
  },
  "language_info": {
   "codemirror_mode": {
    "name": "ipython",
    "version": 3
   },
   "file_extension": ".py",
   "mimetype": "text/x-python",
   "name": "python",
   "nbconvert_exporter": "python",
   "pygments_lexer": "ipython3",
   "version": "3.10.7"
  },
  "orig_nbformat": 4,
  "vscode": {
   "interpreter": {
    "hash": "7e1998ff7f8aa20ada591c520b972326324e5ea05489af9e422744c7c09f6dad"
   }
  }
 },
 "nbformat": 4,
 "nbformat_minor": 2
}
