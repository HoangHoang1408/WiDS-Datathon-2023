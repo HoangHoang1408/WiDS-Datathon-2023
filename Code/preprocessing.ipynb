{
 "cells": [
  {
   "cell_type": "code",
   "execution_count": 20,
   "metadata": {},
   "outputs": [],
   "source": [
    "import numpy as np\n",
    "import pandas as pd\n",
    "import matplotlib.pyplot as plt\n",
    "import seaborn as sns\n",
    "sns.set()\n",
    "\n",
    "pd.options.display.max_columns = None\n",
    "pd.options.display.max_rows = 200\n",
    "\n",
    "from feature_names import *\n",
    "from utils import *"
   ]
  },
  {
   "cell_type": "code",
   "execution_count": 21,
   "metadata": {},
   "outputs": [],
   "source": [
    "from sklearn.model_selection import train_test_split\n",
    "from sklearn.metrics import mean_squared_error\n",
    "from category_encoders import TargetEncoder"
   ]
  },
  {
   "cell_type": "code",
   "execution_count": 22,
   "metadata": {},
   "outputs": [],
   "source": [
    "df_train = pd.read_csv('../Data/competition/train_data.csv')\n",
    "df_test = pd.read_csv('../Data/competition/test_data.csv')\n",
    "dfs = [df_train, df_test]"
   ]
  },
  {
   "cell_type": "code",
   "execution_count": 27,
   "metadata": {},
   "outputs": [],
   "source": [
    "submit_index = df_test[index]"
   ]
  },
  {
   "cell_type": "code",
   "execution_count": 4,
   "metadata": {},
   "outputs": [
    {
     "name": "stdout",
     "output_type": "stream",
     "text": [
      "<class 'pandas.core.frame.DataFrame'>\n",
      "RangeIndex: 31354 entries, 0 to 31353\n",
      "Columns: 245 entries, index to wind-vwnd-925-2010-20\n",
      "dtypes: float64(241), int64(2), object(2)\n",
      "memory usage: 58.6+ MB\n",
      "None\n",
      "<class 'pandas.core.frame.DataFrame'>\n",
      "RangeIndex: 375734 entries, 0 to 375733\n",
      "Columns: 246 entries, index to wind-vwnd-925-2010-20\n",
      "dtypes: float64(240), int64(4), object(2)\n",
      "memory usage: 705.2+ MB\n",
      "None\n"
     ]
    }
   ],
   "source": [
    "print(df_test.info())\n",
    "print(df_train.info())"
   ]
  },
  {
   "cell_type": "code",
   "execution_count": 5,
   "metadata": {},
   "outputs": [],
   "source": [
    "for df in dfs:\n",
    "  df.columns = df.columns.str.replace('-','_')"
   ]
  },
  {
   "cell_type": "code",
   "execution_count": 6,
   "metadata": {},
   "outputs": [
    {
     "data": {
      "text/html": [
       "<div>\n",
       "<style scoped>\n",
       "    .dataframe tbody tr th:only-of-type {\n",
       "        vertical-align: middle;\n",
       "    }\n",
       "\n",
       "    .dataframe tbody tr th {\n",
       "        vertical-align: top;\n",
       "    }\n",
       "\n",
       "    .dataframe thead th {\n",
       "        text-align: right;\n",
       "    }\n",
       "</style>\n",
       "<table border=\"1\" class=\"dataframe\">\n",
       "  <thead>\n",
       "    <tr style=\"text-align: right;\">\n",
       "      <th></th>\n",
       "      <th>nan_count</th>\n",
       "      <th>nan_percent</th>\n",
       "      <th>unique_count</th>\n",
       "      <th>dtype</th>\n",
       "    </tr>\n",
       "  </thead>\n",
       "  <tbody>\n",
       "    <tr>\n",
       "      <th>nmme0_tmp2m_34w__ccsm30</th>\n",
       "      <td>15934</td>\n",
       "      <td>4.2408</td>\n",
       "      <td>3840</td>\n",
       "      <td>float64</td>\n",
       "    </tr>\n",
       "    <tr>\n",
       "      <th>nmme_tmp2m_56w__ccsm3</th>\n",
       "      <td>10280</td>\n",
       "      <td>2.7360</td>\n",
       "      <td>5000</td>\n",
       "      <td>float64</td>\n",
       "    </tr>\n",
       "    <tr>\n",
       "      <th>nmme_prate_34w__ccsm3</th>\n",
       "      <td>8738</td>\n",
       "      <td>2.3256</td>\n",
       "      <td>10139</td>\n",
       "      <td>float64</td>\n",
       "    </tr>\n",
       "    <tr>\n",
       "      <th>nmme0_prate_56w__ccsm30</th>\n",
       "      <td>15934</td>\n",
       "      <td>4.2408</td>\n",
       "      <td>5716</td>\n",
       "      <td>float64</td>\n",
       "    </tr>\n",
       "    <tr>\n",
       "      <th>nmme0_prate_34w__ccsm30</th>\n",
       "      <td>15934</td>\n",
       "      <td>4.2408</td>\n",
       "      <td>5712</td>\n",
       "      <td>float64</td>\n",
       "    </tr>\n",
       "    <tr>\n",
       "      <th>nmme_prate_56w__ccsm3</th>\n",
       "      <td>10280</td>\n",
       "      <td>2.7360</td>\n",
       "      <td>10008</td>\n",
       "      <td>float64</td>\n",
       "    </tr>\n",
       "    <tr>\n",
       "      <th>nmme_tmp2m_34w__ccsm3</th>\n",
       "      <td>8738</td>\n",
       "      <td>2.3256</td>\n",
       "      <td>4810</td>\n",
       "      <td>float64</td>\n",
       "    </tr>\n",
       "    <tr>\n",
       "      <th>ccsm30</th>\n",
       "      <td>15934</td>\n",
       "      <td>4.2408</td>\n",
       "      <td>3833</td>\n",
       "      <td>float64</td>\n",
       "    </tr>\n",
       "  </tbody>\n",
       "</table>\n",
       "</div>"
      ],
      "text/plain": [
       "                         nan_count  nan_percent  unique_count    dtype\n",
       "nmme0_tmp2m_34w__ccsm30      15934       4.2408          3840  float64\n",
       "nmme_tmp2m_56w__ccsm3        10280       2.7360          5000  float64\n",
       "nmme_prate_34w__ccsm3         8738       2.3256         10139  float64\n",
       "nmme0_prate_56w__ccsm30      15934       4.2408          5716  float64\n",
       "nmme0_prate_34w__ccsm30      15934       4.2408          5712  float64\n",
       "nmme_prate_56w__ccsm3        10280       2.7360         10008  float64\n",
       "nmme_tmp2m_34w__ccsm3         8738       2.3256          4810  float64\n",
       "ccsm30                       15934       4.2408          3833  float64"
      ]
     },
     "execution_count": 6,
     "metadata": {},
     "output_type": "execute_result"
    }
   ],
   "source": [
    "df_info_obj = df_info(df_train)\n",
    "null_contained_cols = df_info_obj[df_info_obj['nan_count']>0].index\n",
    "df_info_obj.loc[null_contained_cols]"
   ]
  },
  {
   "cell_type": "code",
   "execution_count": 7,
   "metadata": {},
   "outputs": [],
   "source": [
    "for df in dfs:\n",
    "  df[year] = df[startdate].str.split('/').str[2].astype(int)\n",
    "  df[month] = df[startdate].str.split('/').str[0].astype(int)\n",
    "  df[day] = df[startdate].str.split('/').str[1].astype(int)"
   ]
  },
  {
   "cell_type": "code",
   "execution_count": 8,
   "metadata": {},
   "outputs": [
    {
     "data": {
      "image/png": "[encoded data removed]",
      "text/plain": [
       "<Figure size 1440x576 with 1 Axes>"
      ]
     },
     "metadata": {
      "needs_background": "light"
     },
     "output_type": "display_data"
    }
   ],
   "source": [
    "plot_line(\n",
    "  df=df_train,\n",
    "  column_name=[\n",
    "    cancm30,\n",
    "    cancm40,\n",
    "    ccsm30,\n",
    "    ccsm40,\n",
    "    cfsv20,\n",
    "    gfdlflora0,\n",
    "    gfdlflorb0,\n",
    "    gfdl0,\n",
    "    nasa0,\n",
    "    nmme0mean,\n",
    "  ],\n",
    "  start_index=350,\n",
    "  end_index=450\n",
    ")"
   ]
  },
  {
   "cell_type": "code",
   "execution_count": 9,
   "metadata": {},
   "outputs": [],
   "source": [
    "# fill some missing values of one type model predict with mean of all models\n",
    "# nmme0-tmp2m-34w__ccsm30\n",
    "# nmme0-prate-34w__ccsm30\n",
    "# nmme0-prate-56w__ccsm30\n",
    "# nmme-tmp2m-56w__ccsm3\n",
    "# nmme-tmp2m-34w__ccsm3\n",
    "# nmme-prate-34w__ccsm3\n",
    "# nmme-prate-56w__ccsm3\n",
    "# ccsm30\n",
    "\n",
    "df_train[nmme0_tmp2m_34w__ccsm30] = df_train[nmme0_tmp2m_34w__ccsm30].fillna(df_train[nmme0_tmp2m_34w__nmme0mean])\n",
    "df_train[nmme0_prate_34w__ccsm30] = df_train[nmme0_prate_34w__ccsm30].fillna(df_train[nmme0_prate_34w__nmme0mean])\n",
    "df_train[nmme0_prate_56w__ccsm30] = df_train[nmme0_prate_56w__ccsm30].fillna(df_train[nmme0_prate_56w__nmme0mean])\n",
    "df_train[nmme_tmp2m_34w__ccsm3] = df_train[nmme_tmp2m_34w__ccsm3].fillna(df_train[nmme_tmp2m_34w__nmmemean])\n",
    "df_train[nmme_tmp2m_56w__ccsm3] = df_train[nmme_tmp2m_56w__ccsm3].fillna(df_train[nmme_tmp2m_56w__nmmemean])\n",
    "df_train[nmme_prate_34w__ccsm3] = df_train[nmme_prate_34w__ccsm3].fillna(df_train[nmme_prate_34w__nmmemean])\n",
    "df_train[nmme_prate_56w__ccsm3] = df_train[nmme_prate_56w__ccsm3].fillna(df_train[nmme_prate_56w__nmmemean])\n",
    "df_train[ccsm30] = df_train[ccsm30].fillna(df_train[nmme0mean])"
   ]
  },
  {
   "cell_type": "code",
   "execution_count": 10,
   "metadata": {},
   "outputs": [],
   "source": [
    "# drop unused columns\n",
    "for df in dfs:\n",
    "  df.drop(columns=[\n",
    "    startdate,\n",
    "    index,\n",
    "  ], inplace=True)"
   ]
  },
  {
   "cell_type": "code",
   "execution_count": 11,
   "metadata": {},
   "outputs": [],
   "source": [
    "target = contest_tmp2m_14d__tmp2m\n",
    "X, y = df_train.drop(columns=[target]), df_train[target]\n",
    "X_submit = df_test"
   ]
  },
  {
   "cell_type": "code",
   "execution_count": 12,
   "metadata": {},
   "outputs": [],
   "source": [
    "# split train, val and test keeping the same distribution of month and day\n",
    "\n",
    "month_and_day = 'month_and_day'\n",
    "X[month_and_day] = X[month].astype(str) +'-'+ X[day].astype(str)\n",
    "X_train_temp, X_test, y_train, y_test = train_test_split(X, y, test_size=0.05, random_state=42, stratify=X[month_and_day])\n",
    "X_train, X_val, y_train, y_val = train_test_split(X_train_temp, y_train, test_size=0.15784, random_state=42, stratify=X_train_temp[month_and_day])"
   ]
  },
  {
   "cell_type": "code",
   "execution_count": 13,
   "metadata": {},
   "outputs": [],
   "source": [
    "# get sample data from train\n",
    "X_train_sample, _, y_train_sample, _ = train_test_split(X_train, y_train, test_size=0.7, random_state=42, stratify=X_train[month_and_day])"
   ]
  },
  {
   "cell_type": "code",
   "execution_count": 14,
   "metadata": {},
   "outputs": [
    {
     "data": {
      "text/plain": [
       "count    3.660000e+02\n",
       "mean     1.149373e-19\n",
       "std      1.656110e-06\n",
       "min     -1.501754e-06\n",
       "25%     -1.501754e-06\n",
       "50%     -1.501754e-06\n",
       "75%      1.824859e-06\n",
       "max      1.824859e-06\n",
       "Name: month_and_day, dtype: float64"
      ]
     },
     "execution_count": 14,
     "metadata": {},
     "output_type": "execute_result"
    }
   ],
   "source": [
    "temp = X_train[month_and_day].value_counts() / X_train.shape[0] - X[month_and_day].value_counts() / X.shape[0]\n",
    "temp.describe()\n",
    "# ==> oke"
   ]
  },
  {
   "cell_type": "code",
   "execution_count": 15,
   "metadata": {},
   "outputs": [],
   "source": [
    "X_train.drop(columns=[month_and_day], inplace=True)\n",
    "X_val.drop(columns=[month_and_day], inplace=True)\n",
    "X_test.drop(columns=[month_and_day], inplace=True)\n",
    "X_train_sample.drop(columns=[month_and_day], inplace=True)"
   ]
  },
  {
   "cell_type": "code",
   "execution_count": 16,
   "metadata": {},
   "outputs": [
    {
     "data": {
      "text/plain": [
       "((300606, 246), (56341, 246), (18787, 246), (31354, 246), (90181, 246))"
      ]
     },
     "execution_count": 16,
     "metadata": {},
     "output_type": "execute_result"
    }
   ],
   "source": [
    "X_train.shape, X_val.shape, X_test.shape, X_submit.shape, X_train_sample.shape"
   ]
  },
  {
   "cell_type": "code",
   "execution_count": 17,
   "metadata": {},
   "outputs": [],
   "source": [
    "# save train, val, test and submit data\n",
    "train = pd.concat([X_train, y_train], axis=1)\n",
    "val = pd.concat([X_val, y_val], axis=1)\n",
    "test = pd.concat([X_test, y_test], axis=1)\n",
    "train_sample = pd.concat([X_train_sample, y_train_sample], axis=1)\n",
    "submit = X_submit\n",
    "\n",
    "train.to_csv('../Data/created/train.csv', index=False)\n",
    "val.to_csv('../Data/created/val.csv', index=False)\n",
    "test.to_csv('../Data/created/test.csv', index=False)\n",
    "train_sample.to_csv('../Data/created/train_sample.csv', index=False)"
   ]
  },
  {
   "cell_type": "code",
   "execution_count": 28,
   "metadata": {},
   "outputs": [],
   "source": [
    "submit[index] = submit_index\n",
    "submit.to_csv('../Data/created/submit.csv',index=False)"
   ]
  },
  {
   "cell_type": "code",
   "execution_count": 25,
   "metadata": {},
   "outputs": [
    {
     "data": {
      "text/plain": [
       "0        375734\n",
       "1        375735\n",
       "2        375736\n",
       "3        375737\n",
       "4        375738\n",
       "          ...  \n",
       "31349    407083\n",
       "31350    407084\n",
       "31351    407085\n",
       "31352    407086\n",
       "31353    407087\n",
       "Name: index, Length: 31354, dtype: int64"
      ]
     },
     "execution_count": 25,
     "metadata": {},
     "output_type": "execute_result"
    }
   ],
   "source": []
  },
  {
   "cell_type": "code",
   "execution_count": null,
   "metadata": {},
   "outputs": [],
   "source": []
  }
 ],
 "metadata": {
  "kernelspec": {
   "display_name": "Python 3",
   "language": "python",
   "name": "python3"
  },
  "language_info": {
   "codemirror_mode": {
    "name": "ipython",
    "version": 3
   },
   "file_extension": ".py",
   "mimetype": "text/x-python",
   "name": "python",
   "nbconvert_exporter": "python",
   "pygments_lexer": "ipython3",
   "version": "3.10.7"
  },
  "orig_nbformat": 4,
  "vscode": {
   "interpreter": {
    "hash": "7e1998ff7f8aa20ada591c520b972326324e5ea05489af9e422744c7c09f6dad"
   }
  }
 },
 "nbformat": 4,
 "nbformat_minor": 2
}
