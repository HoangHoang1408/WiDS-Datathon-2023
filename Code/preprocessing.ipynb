{
 "cells": [
  {
   "cell_type": "code",
   "execution_count": 321,
   "metadata": {},
   "outputs": [],
   "source": [
    "import numpy as np\n",
    "import pandas as pd\n",
    "import matplotlib.pyplot as plt\n",
    "from matplotlib import rcParams\n",
    "import seaborn as sns\n",
    "import warnings\n",
    "\n",
    "sns.set()\n",
    "rcParams['figure.figsize'] = (20,10)\n",
    "pd.options.display.max_columns = None\n",
    "pd.options.display.max_rows = 200\n",
    "warnings.filterwarnings('ignore')\n",
    "\n",
    "from feature_names import *\n",
    "from utils import *"
   ]
  },
  {
   "cell_type": "code",
   "execution_count": 322,
   "metadata": {},
   "outputs": [],
   "source": [
    "from sklearn.model_selection import train_test_split\n",
    "from sklearn.metrics import mean_squared_error\n",
    "from category_encoders import TargetEncoder\n",
    "from fastai.tabular.core import df_shrink"
   ]
  },
  {
   "cell_type": "code",
   "execution_count": 323,
   "metadata": {},
   "outputs": [],
   "source": [
    "df_train_temp = pd.read_csv('../Data/competition/train_data_shrink.csv', parse_dates=[startdate])\n",
    "df_test_temp = pd.read_csv('../Data/competition/test_data_shrink.csv', parse_dates=[startdate])"
   ]
  },
  {
   "cell_type": "code",
   "execution_count": 324,
   "metadata": {},
   "outputs": [],
   "source": [
    "df_train = df_train_temp.copy()\n",
    "df_test = df_test_temp.copy()\n",
    "dfs = [df_train, df_test]"
   ]
  },
  {
   "cell_type": "code",
   "execution_count": 325,
   "metadata": {},
   "outputs": [],
   "source": [
    "# df_train_temp = pd.read_csv('../Data/competition/train_data.csv')\n",
    "# df_test_temp = pd.read_csv('../Data/competition/test_data.csv')\n",
    "\n",
    "# df_train_shrink = df_shrink(df_train_temp)\n",
    "# df_test_shrink = df_shrink(df_test_temp)\n",
    "\n",
    "# # save to csv but keep the index\n",
    "# df_train_shrink.to_csv('../Data/competition/train_data_shrink.csv')\n",
    "# df_test_shrink.to_csv('../Data/competition/test_data_shrink.csv')\n",
    "# df_train_shrink.memory_usage(deep=True).sum() / 1024**2"
   ]
  },
  {
   "cell_type": "code",
   "execution_count": 326,
   "metadata": {},
   "outputs": [],
   "source": [
    "for df in dfs:\n",
    "  df.columns = df.columns.str.replace('-','_')"
   ]
  },
  {
   "cell_type": "code",
   "execution_count": 327,
   "metadata": {},
   "outputs": [
    {
     "data": {
      "text/html": [
       "<div>\n",
       "<style scoped>\n",
       "    .dataframe tbody tr th:only-of-type {\n",
       "        vertical-align: middle;\n",
       "    }\n",
       "\n",
       "    .dataframe tbody tr th {\n",
       "        vertical-align: top;\n",
       "    }\n",
       "\n",
       "    .dataframe thead th {\n",
       "        text-align: right;\n",
       "    }\n",
       "</style>\n",
       "<table border=\"1\" class=\"dataframe\">\n",
       "  <thead>\n",
       "    <tr style=\"text-align: right;\">\n",
       "      <th></th>\n",
       "      <th>nan_count</th>\n",
       "      <th>nan_percent</th>\n",
       "      <th>unique_count</th>\n",
       "      <th>dtype</th>\n",
       "    </tr>\n",
       "  </thead>\n",
       "  <tbody>\n",
       "    <tr>\n",
       "      <th>nmme0_tmp2m_34w__ccsm30</th>\n",
       "      <td>15934</td>\n",
       "      <td>4.2408</td>\n",
       "      <td>3840</td>\n",
       "      <td>float64</td>\n",
       "    </tr>\n",
       "    <tr>\n",
       "      <th>nmme_tmp2m_56w__ccsm3</th>\n",
       "      <td>10280</td>\n",
       "      <td>2.7360</td>\n",
       "      <td>5000</td>\n",
       "      <td>float64</td>\n",
       "    </tr>\n",
       "    <tr>\n",
       "      <th>nmme_prate_34w__ccsm3</th>\n",
       "      <td>8738</td>\n",
       "      <td>2.3256</td>\n",
       "      <td>10139</td>\n",
       "      <td>float64</td>\n",
       "    </tr>\n",
       "    <tr>\n",
       "      <th>nmme0_prate_56w__ccsm30</th>\n",
       "      <td>15934</td>\n",
       "      <td>4.2408</td>\n",
       "      <td>5716</td>\n",
       "      <td>float64</td>\n",
       "    </tr>\n",
       "    <tr>\n",
       "      <th>nmme0_prate_34w__ccsm30</th>\n",
       "      <td>15934</td>\n",
       "      <td>4.2408</td>\n",
       "      <td>5712</td>\n",
       "      <td>float64</td>\n",
       "    </tr>\n",
       "    <tr>\n",
       "      <th>nmme_prate_56w__ccsm3</th>\n",
       "      <td>10280</td>\n",
       "      <td>2.7360</td>\n",
       "      <td>10008</td>\n",
       "      <td>float64</td>\n",
       "    </tr>\n",
       "    <tr>\n",
       "      <th>nmme_tmp2m_34w__ccsm3</th>\n",
       "      <td>8738</td>\n",
       "      <td>2.3256</td>\n",
       "      <td>4810</td>\n",
       "      <td>float64</td>\n",
       "    </tr>\n",
       "    <tr>\n",
       "      <th>ccsm30</th>\n",
       "      <td>15934</td>\n",
       "      <td>4.2408</td>\n",
       "      <td>3833</td>\n",
       "      <td>float64</td>\n",
       "    </tr>\n",
       "  </tbody>\n",
       "</table>\n",
       "</div>"
      ],
      "text/plain": [
       "                         nan_count  nan_percent  unique_count    dtype\n",
       "nmme0_tmp2m_34w__ccsm30      15934       4.2408          3840  float64\n",
       "nmme_tmp2m_56w__ccsm3        10280       2.7360          5000  float64\n",
       "nmme_prate_34w__ccsm3         8738       2.3256         10139  float64\n",
       "nmme0_prate_56w__ccsm30      15934       4.2408          5716  float64\n",
       "nmme0_prate_34w__ccsm30      15934       4.2408          5712  float64\n",
       "nmme_prate_56w__ccsm3        10280       2.7360         10008  float64\n",
       "nmme_tmp2m_34w__ccsm3         8738       2.3256          4810  float64\n",
       "ccsm30                       15934       4.2408          3833  float64"
      ]
     },
     "execution_count": 327,
     "metadata": {},
     "output_type": "execute_result"
    }
   ],
   "source": [
    "df_info_obj = df_info(df_train)\n",
    "null_contained_cols = df_info_obj[df_info_obj['nan_count']>0].index\n",
    "df_info_obj.loc[null_contained_cols]"
   ]
  },
  {
   "cell_type": "code",
   "execution_count": 328,
   "metadata": {},
   "outputs": [],
   "source": [
    "for df in dfs:\n",
    "  df[year] = df[startdate].dt.year\n",
    "  df[month] = df[startdate].dt.month\n",
    "  df['week'] = df[startdate].dt.week\n",
    "  df['day'] = df[startdate].dt.day"
   ]
  },
  {
   "cell_type": "code",
   "execution_count": 329,
   "metadata": {},
   "outputs": [
    {
     "data": {
      "image/png": "[encoded data removed]",
      "text/plain": [
       "<Figure size 1440x576 with 1 Axes>"
      ]
     },
     "metadata": {},
     "output_type": "display_data"
    }
   ],
   "source": [
    "plot_line(\n",
    "  df=df_train,\n",
    "  column_name=[\n",
    "    cancm30,\n",
    "    cancm40,\n",
    "    ccsm30,\n",
    "    ccsm40,\n",
    "    cfsv20,\n",
    "    gfdlflora0,\n",
    "    gfdlflorb0,\n",
    "    gfdl0,\n",
    "    nasa0,\n",
    "    nmme0mean,\n",
    "  ],\n",
    "  start_index=350,\n",
    "  end_index=450\n",
    ")"
   ]
  },
  {
   "cell_type": "code",
   "execution_count": 330,
   "metadata": {},
   "outputs": [],
   "source": [
    "# fill some missing values of one type model predict with mean of all models\n",
    "df_train[nmme0_tmp2m_34w__ccsm30] = df_train[nmme0_tmp2m_34w__ccsm30].fillna(df_train[nmme0_tmp2m_34w__nmme0mean])\n",
    "df_train[nmme0_prate_34w__ccsm30] = df_train[nmme0_prate_34w__ccsm30].fillna(df_train[nmme0_prate_34w__nmme0mean])\n",
    "df_train[nmme0_prate_56w__ccsm30] = df_train[nmme0_prate_56w__ccsm30].fillna(df_train[nmme0_prate_56w__nmme0mean])\n",
    "df_train[nmme_tmp2m_34w__ccsm3] = df_train[nmme_tmp2m_34w__ccsm3].fillna(df_train[nmme_tmp2m_34w__nmmemean])\n",
    "df_train[nmme_tmp2m_56w__ccsm3] = df_train[nmme_tmp2m_56w__ccsm3].fillna(df_train[nmme_tmp2m_56w__nmmemean])\n",
    "df_train[nmme_prate_34w__ccsm3] = df_train[nmme_prate_34w__ccsm3].fillna(df_train[nmme_prate_34w__nmmemean])\n",
    "df_train[nmme_prate_56w__ccsm3] = df_train[nmme_prate_56w__ccsm3].fillna(df_train[nmme_prate_56w__nmmemean])\n",
    "df_train[ccsm30] = df_train[ccsm30].fillna(df_train[nmme0mean])"
   ]
  },
  {
   "cell_type": "code",
   "execution_count": null,
   "metadata": {},
   "outputs": [],
   "source": []
  },
  {
   "cell_type": "code",
   "execution_count": 331,
   "metadata": {},
   "outputs": [],
   "source": [
    "# categorical features  \n",
    "cat_cols = [\n",
    "  mjo1d__phase,                      # match\n",
    "  month,                             # match\n",
    "  climateregions__climateregion,     # match\n",
    "  day,                               # match\n",
    "  elevation__elevation,              # match\n",
    "  \n",
    "  year,                              # ==> drop\n",
    "  mei__meirank,                      # ==> only match at value 37 but for small portion ==> drop            \n",
    "  mei__nip,                          # ==> only match at value 3 ==> create is_mei__nip_3\n",
    "  mei__mei,                          # ==> drop\n",
    "  lat,                               # ==> match but need to be rounded\n",
    "  lon,                               # ==> match but need to be rounded\n",
    "]\n",
    "\n",
    "match_cols = [\n",
    "  mjo1d__phase,\n",
    "  month,\n",
    "  climateregions__climateregion,\n",
    "  elevation__elevation,\n",
    "  day,\n",
    "  lat,\n",
    "  lon,\n",
    "]"
   ]
  },
  {
   "attachments": {},
   "cell_type": "markdown",
   "metadata": {},
   "source": [
    "### Handle categorical features"
   ]
  },
  {
   "cell_type": "code",
   "execution_count": 332,
   "metadata": {},
   "outputs": [
    {
     "name": "stdout",
     "output_type": "stream",
     "text": [
      "mjo1d__phase True\n",
      "month True\n",
      "climateregions__climateregion True\n",
      "day True\n",
      "elevation__elevation True\n",
      "year False\n",
      "mei__meirank False\n",
      "mei__nip False\n",
      "mei__mei False\n",
      "lat True\n",
      "lon True\n"
     ]
    }
   ],
   "source": [
    "def check_match(df_train, df_test, col):\n",
    "  return set(df_test[col].value_counts().index).issubset(set(df_train[col].value_counts().index))\n",
    "\n",
    "for col in cat_cols:\n",
    "  print(col, check_match(df_train, df_test, col))"
   ]
  },
  {
   "cell_type": "code",
   "execution_count": 333,
   "metadata": {},
   "outputs": [],
   "source": [
    "# handle unmatched lat, lon\n",
    "for df in dfs:\n",
    "  for kind in [lat,lon]:\n",
    "    df[kind] = df[kind].round(4)"
   ]
  },
  {
   "cell_type": "code",
   "execution_count": 334,
   "metadata": {},
   "outputs": [],
   "source": [
    "for df in dfs:\n",
    "  df['is_mei__nip_3'] = (df[mei__nip]==3).astype(int)\n",
    "  df[location] = (df[lat].astype(str) + '_' + df[lon].astype(str))"
   ]
  },
  {
   "cell_type": "code",
   "execution_count": 335,
   "metadata": {},
   "outputs": [],
   "source": [
    "# # plot cancm30 grouped by month\n",
    "# group_cols_1 = [location, month]\n",
    "# group_name_1 = '_'.join(group_cols_1)\n",
    "\n",
    "# cols1 = [\n",
    "#   nmme0_tmp2m_34w__cancm30,\n",
    "#   nmme0_tmp2m_34w__cancm40,\n",
    "#   nmme0_tmp2m_34w__ccsm30,\n",
    "#   nmme0_tmp2m_34w__ccsm40,\n",
    "#   nmme0_tmp2m_34w__cfsv20,\n",
    "#   nmme0_tmp2m_34w__gfdlflora0,\n",
    "#   nmme0_tmp2m_34w__gfdlflorb0,\n",
    "#   nmme0_tmp2m_34w__gfdl0,\n",
    "#   nmme0_tmp2m_34w__nasa0,\n",
    "#   nmme0_tmp2m_34w__nmme0mean,\n",
    "# ] # ==> max, std\n",
    "# for col in cols1:\n",
    "#   for df in dfs:\n",
    "#     df[f'{group_name_1}_{col}_max'] = df.groupby(group_cols_1)[col].transform('max')\n",
    "#     df[f'{group_name_1}_{col}_std'] = df.groupby(group_cols_1)[col].transform('std')\n",
    "\n",
    "# cols2 = [\n",
    "#   nmme_tmp2m_34w__cancm3,\n",
    "#   nmme_tmp2m_34w__ccsm3,\n",
    "#   nmme_tmp2m_34w__ccsm4,\n",
    "#   nmme_tmp2m_34w__cfsv2,\n",
    "#   nmme_tmp2m_34w__gfdl,\n",
    "#   nmme_tmp2m_34w__gfdlflora,\n",
    "#   nmme_tmp2m_34w__gfdlflorb,\n",
    "#   nmme_tmp2m_34w__nasa,\n",
    "#   nmme_tmp2m_34w__nmmemean,\n",
    "  \n",
    "#   nmme_tmp2m_56w__cancm4,\n",
    "#   nmme_tmp2m_56w__ccsm4,\n",
    "#   nmme_tmp2m_56w__cfsv2,\n",
    "#   nmme_tmp2m_56w__gfdl,\n",
    "#   nmme_tmp2m_56w__gfdlflora,\n",
    "#   nmme_tmp2m_56w__gfdlflorb,\n",
    "#   nmme_tmp2m_56w__nasa,\n",
    "#   nmme_tmp2m_56w__nmmemean,\n",
    "# ]    # => max, min, mean, median\n",
    "\n",
    "# for col in cols2:\n",
    "#   for df in dfs:\n",
    "#     df[f'{group_name_1}_{col}_max'] = df.groupby(group_cols_1)[col].transform('max')\n",
    "#     df[f'{group_name_1}_{col}_min'] = df.groupby(group_cols_1)[col].transform('min')\n",
    "#     df[f'{group_name_1}_{col}_mean'] = df.groupby(group_cols_1)[col].transform('mean')\n",
    "#     df[f'{group_name_1}_{col}_median'] = df.groupby(group_cols_1)[col].transform('median')\n",
    "\n",
    "# cols3 = [\n",
    "#   cancm30,\n",
    "#   cancm40,\n",
    "#   cfsv20,\n",
    "#   gfdlflora0,\n",
    "#   gfdlflorb0,\n",
    "#   gfdl0,\n",
    "#   nasa0,\n",
    "#   nmme0mean,\n",
    "# ] # => only std\n",
    "# for col in cols3:\n",
    "#   for df in dfs:\n",
    "#     df[f'{group_name_1}_{col}_std'] = df.groupby(group_cols_1)[col].transform('std')\n",
    "\n",
    "# cols4 = [\n",
    "#   contest_wind_vwnd_250_14d__wind_vwnd_250, \n",
    "#   contest_wind_vwnd_925_14d__wind_vwnd_925, \n",
    "#   contest_wind_uwnd_250_14d__wind_uwnd_250, \n",
    "#   contest_wind_uwnd_925_14d__wind_uwnd_925, \n",
    "#   contest_wind_h100_14d__wind_hgt_100, \n",
    "#   contest_wind_h500_14d__wind_hgt_500, \n",
    "#   contest_slp_14d__slp, \n",
    "#   contest_pevpr_sfc_gauss_14d__pevpr, \n",
    "#   contest_pres_sfc_gauss_14d__pres, \n",
    "#   contest_precip_14d__precip, \n",
    "#   contest_prwtr_eatm_14d__prwtr, \n",
    "# ] # => max, skew, median, mean\n",
    "\n",
    "# for col in cols4:\n",
    "#   for df in dfs:\n",
    "#     df[f'{group_name_1}_{col}_max'] = df.groupby(group_cols_1)[col].transform('max')\n",
    "#     df[f'{group_name_1}_{col}_skew'] = df.groupby(group_cols_1)[col].transform('skew')\n",
    "#     df[f'{group_name_1}_{col}_median'] = df.groupby(group_cols_1)[col].transform('median')\n",
    "#     df[f'{group_name_1}_{col}_mean'] = df.groupby(group_cols_1)[col].transform('mean')\n",
    "# for col in [*cols1, *cols2, *cols3, *cols4]:\n",
    "#   for df in dfs:\n",
    "#     for shift in [-1,1]:\n",
    "#       df[f'location_week_{col}_lag_{shift}'] = df.groupby([location, week])[col].shift(shift)"
   ]
  },
  {
   "cell_type": "code",
   "execution_count": 336,
   "metadata": {},
   "outputs": [],
   "source": [
    "# drop unused columns\n",
    "for df in dfs:\n",
    "  df.drop(columns=[\n",
    "    year,\n",
    "    startdate,\n",
    "    index,\n",
    "    mei__mei,\n",
    "    mei__meirank,\n",
    "    mei__nip,\n",
    "  ], inplace=True)"
   ]
  },
  {
   "cell_type": "code",
   "execution_count": 337,
   "metadata": {},
   "outputs": [],
   "source": [
    "cat_cols = [\n",
    " 'lat',\n",
    " 'lon',\n",
    " 'climateregions__climateregion',\n",
    " 'elevation__elevation',\n",
    " 'mjo1d__phase',\n",
    " 'is_mei__nip_3',\n",
    " 'location'\n",
    "]\n",
    "from sklearn.preprocessing import LabelEncoder\n",
    "# label encode categorical features\n",
    "label_encoder = LabelEncoder()\n",
    "for col in cat_cols:\n",
    "  df_train[col] = label_encoder.fit_transform(df_train[col])\n",
    "  df_test[col] = label_encoder.transform(df_test[col])"
   ]
  },
  {
   "cell_type": "code",
   "execution_count": 345,
   "metadata": {},
   "outputs": [
    {
     "ename": "KeyError",
     "evalue": "'index'",
     "output_type": "error",
     "traceback": [
      "\u001b[0;31m---------------------------------------------------------------------------\u001b[0m",
      "\u001b[0;31mKeyError\u001b[0m                                  Traceback (most recent call last)",
      "File \u001b[0;32m/Library/Frameworks/Python.framework/Versions/3.10/lib/python3.10/site-packages/pandas/core/indexes/base.py:3621\u001b[0m, in \u001b[0;36mIndex.get_loc\u001b[0;34m(self, key, method, tolerance)\u001b[0m\n\u001b[1;32m   3620\u001b[0m \u001b[39mtry\u001b[39;00m:\n\u001b[0;32m-> 3621\u001b[0m     \u001b[39mreturn\u001b[39;00m \u001b[39mself\u001b[39;49m\u001b[39m.\u001b[39;49m_engine\u001b[39m.\u001b[39;49mget_loc(casted_key)\n\u001b[1;32m   3622\u001b[0m \u001b[39mexcept\u001b[39;00m \u001b[39mKeyError\u001b[39;00m \u001b[39mas\u001b[39;00m err:\n",
      "File \u001b[0;32mpandas/_libs/index.pyx:136\u001b[0m, in \u001b[0;36mpandas._libs.index.IndexEngine.get_loc\u001b[0;34m()\u001b[0m\n",
      "File \u001b[0;32mpandas/_libs/index.pyx:163\u001b[0m, in \u001b[0;36mpandas._libs.index.IndexEngine.get_loc\u001b[0;34m()\u001b[0m\n",
      "File \u001b[0;32mpandas/_libs/hashtable_class_helper.pxi:5198\u001b[0m, in \u001b[0;36mpandas._libs.hashtable.PyObjectHashTable.get_item\u001b[0;34m()\u001b[0m\n",
      "File \u001b[0;32mpandas/_libs/hashtable_class_helper.pxi:5206\u001b[0m, in \u001b[0;36mpandas._libs.hashtable.PyObjectHashTable.get_item\u001b[0;34m()\u001b[0m\n",
      "\u001b[0;31mKeyError\u001b[0m: 'index'",
      "\nThe above exception was the direct cause of the following exception:\n",
      "\u001b[0;31mKeyError\u001b[0m                                  Traceback (most recent call last)",
      "\u001b[1;32m/Users/phamhoang1408/Desktop/WiDS/Code/preprocessing.ipynb Cell 19\u001b[0m in \u001b[0;36m<cell line: 5>\u001b[0;34m()\u001b[0m\n\u001b[1;32m      <a href='vscode-notebook-cell:/Users/phamhoang1408/Desktop/WiDS/Code/preprocessing.ipynb#X34sZmlsZQ%3D%3D?line=2'>3</a>\u001b[0m df_train\u001b[39m.\u001b[39mto_csv(\u001b[39m'\u001b[39m\u001b[39m../Data/created/train_processed.csv\u001b[39m\u001b[39m'\u001b[39m, index\u001b[39m=\u001b[39m\u001b[39mFalse\u001b[39;00m)\n\u001b[1;32m      <a href='vscode-notebook-cell:/Users/phamhoang1408/Desktop/WiDS/Code/preprocessing.ipynb#X34sZmlsZQ%3D%3D?line=3'>4</a>\u001b[0m df_test\u001b[39m.\u001b[39mto_csv(\u001b[39m'\u001b[39m\u001b[39m../Data/created/test_processed.csv\u001b[39m\u001b[39m'\u001b[39m, index\u001b[39m=\u001b[39m\u001b[39mFalse\u001b[39;00m)\n\u001b[0;32m----> <a href='vscode-notebook-cell:/Users/phamhoang1408/Desktop/WiDS/Code/preprocessing.ipynb#X34sZmlsZQ%3D%3D?line=4'>5</a>\u001b[0m submit_index \u001b[39m=\u001b[39m df_test[index]\n\u001b[1;32m      <a href='vscode-notebook-cell:/Users/phamhoang1408/Desktop/WiDS/Code/preprocessing.ipynb#X34sZmlsZQ%3D%3D?line=5'>6</a>\u001b[0m submit_index\u001b[39m.\u001b[39mto_csv(\u001b[39m'\u001b[39m\u001b[39m../Data/created/submit_index.csv\u001b[39m\u001b[39m'\u001b[39m, index\u001b[39m=\u001b[39m\u001b[39mFalse\u001b[39;00m)\n",
      "File \u001b[0;32m/Library/Frameworks/Python.framework/Versions/3.10/lib/python3.10/site-packages/pandas/core/frame.py:3505\u001b[0m, in \u001b[0;36mDataFrame.__getitem__\u001b[0;34m(self, key)\u001b[0m\n\u001b[1;32m   3503\u001b[0m \u001b[39mif\u001b[39;00m \u001b[39mself\u001b[39m\u001b[39m.\u001b[39mcolumns\u001b[39m.\u001b[39mnlevels \u001b[39m>\u001b[39m \u001b[39m1\u001b[39m:\n\u001b[1;32m   3504\u001b[0m     \u001b[39mreturn\u001b[39;00m \u001b[39mself\u001b[39m\u001b[39m.\u001b[39m_getitem_multilevel(key)\n\u001b[0;32m-> 3505\u001b[0m indexer \u001b[39m=\u001b[39m \u001b[39mself\u001b[39;49m\u001b[39m.\u001b[39;49mcolumns\u001b[39m.\u001b[39;49mget_loc(key)\n\u001b[1;32m   3506\u001b[0m \u001b[39mif\u001b[39;00m is_integer(indexer):\n\u001b[1;32m   3507\u001b[0m     indexer \u001b[39m=\u001b[39m [indexer]\n",
      "File \u001b[0;32m/Library/Frameworks/Python.framework/Versions/3.10/lib/python3.10/site-packages/pandas/core/indexes/base.py:3623\u001b[0m, in \u001b[0;36mIndex.get_loc\u001b[0;34m(self, key, method, tolerance)\u001b[0m\n\u001b[1;32m   3621\u001b[0m     \u001b[39mreturn\u001b[39;00m \u001b[39mself\u001b[39m\u001b[39m.\u001b[39m_engine\u001b[39m.\u001b[39mget_loc(casted_key)\n\u001b[1;32m   3622\u001b[0m \u001b[39mexcept\u001b[39;00m \u001b[39mKeyError\u001b[39;00m \u001b[39mas\u001b[39;00m err:\n\u001b[0;32m-> 3623\u001b[0m     \u001b[39mraise\u001b[39;00m \u001b[39mKeyError\u001b[39;00m(key) \u001b[39mfrom\u001b[39;00m \u001b[39merr\u001b[39;00m\n\u001b[1;32m   3624\u001b[0m \u001b[39mexcept\u001b[39;00m \u001b[39mTypeError\u001b[39;00m:\n\u001b[1;32m   3625\u001b[0m     \u001b[39m# If we have a listlike key, _check_indexing_error will raise\u001b[39;00m\n\u001b[1;32m   3626\u001b[0m     \u001b[39m#  InvalidIndexError. Otherwise we fall through and re-raise\u001b[39;00m\n\u001b[1;32m   3627\u001b[0m     \u001b[39m#  the TypeError.\u001b[39;00m\n\u001b[1;32m   3628\u001b[0m     \u001b[39mself\u001b[39m\u001b[39m.\u001b[39m_check_indexing_error(key)\n",
      "\u001b[0;31mKeyError\u001b[0m: 'index'"
     ]
    }
   ],
   "source": [
    "# split train, val and test keeping the same distribution of month and day\n",
    "df_train.to_csv('../Data/created/train_processed.csv', index=False)\n",
    "df_test.to_csv('../Data/created/test_processed.csv', index=False)\n",
    "submit_index = df_test[index]\n",
    "submit_index.to_csv('../Data/created/submit_index.csv', index=False)"
   ]
  },
  {
   "cell_type": "code",
   "execution_count": 311,
   "metadata": {},
   "outputs": [],
   "source": []
  },
  {
   "cell_type": "code",
   "execution_count": null,
   "metadata": {},
   "outputs": [],
   "source": []
  }
 ],
 "metadata": {
  "kernelspec": {
   "display_name": "Python 3",
   "language": "python",
   "name": "python3"
  },
  "language_info": {
   "codemirror_mode": {
    "name": "ipython",
    "version": 3
   },
   "file_extension": ".py",
   "mimetype": "text/x-python",
   "name": "python",
   "nbconvert_exporter": "python",
   "pygments_lexer": "ipython3",
   "version": "3.10.7"
  },
  "orig_nbformat": 4,
  "vscode": {
   "interpreter": {
    "hash": "7e1998ff7f8aa20ada591c520b972326324e5ea05489af9e422744c7c09f6dad"
   }
  }
 },
 "nbformat": 4,
 "nbformat_minor": 2
}
