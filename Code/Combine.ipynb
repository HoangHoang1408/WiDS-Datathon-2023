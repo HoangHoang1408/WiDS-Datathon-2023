{
 "cells": [
  {
   "cell_type": "code",
   "execution_count": null,
   "metadata": {},
   "outputs": [],
   "source": [
    "import numpy as np\n",
    "import pandas as pd\n",
    "import matplotlib.pyplot as plt\n",
    "from matplotlib import rcParams\n",
    "import seaborn as sns\n",
    "import warnings\n",
    "\n",
    "sns.set()\n",
    "rcParams['figure.figsize'] = (20,10)\n",
    "pd.options.display.max_columns = None\n",
    "warnings.filterwarnings('ignore')\n",
    "\n",
    "from sklearn.ensemble import StackingRegressor\n",
    "from sklearn.linear_model import LinearRegression\n",
    "from xgboost import XGBRegressor\n",
    "from lightgbm import LGBMRegressor\n",
    "from catboost import CatBoostRegressor\n",
    "\n",
    "# import target encoder\n",
    "from category_encoders import TargetEncoder"
   ]
  },
  {
   "cell_type": "code",
   "execution_count": null,
   "metadata": {},
   "outputs": [],
   "source": [
    "inlocal = True\n",
    "if inlocal:\n",
    "  path_to_data = '../Data/created/'\n",
    "else:\n",
    "  from google.colab import drive\n",
    "  from google.colab import output\n",
    "  output.enable_custom_widget_manager()\n",
    "  drive.mount('/content/drive')\n",
    "  path_to_data = '/content/drive/My Drive/WiDS 2023/data/'"
   ]
  },
  {
   "cell_type": "code",
   "execution_count": null,
   "metadata": {},
   "outputs": [],
   "source": [
    "df = pd.read_csv(path_to_data + 'train_processed.csv')\n",
    "df_submit = pd.read_csv(path_to_data + 'test_processed.csv')\n",
    "target = 'contest_tmp2m_14d__tmp2m'"
   ]
  },
  {
   "cell_type": "code",
   "execution_count": null,
   "metadata": {},
   "outputs": [],
   "source": [
    "X_train, y_train = df.drop(target, axis=1), df[target]"
   ]
  },
  {
   "cell_type": "code",
   "execution_count": null,
   "metadata": {},
   "outputs": [],
   "source": [
    "cat_cols = ['lat', 'lon', 'climateregions__climateregion', 'elevation__elevation', 'mjo1d__phase', 'month', 'week', 'is_mei__nip_3', 'location', 'day']"
   ]
  },
  {
   "cell_type": "code",
   "execution_count": null,
   "metadata": {},
   "outputs": [],
   "source": [
    "catboost_base = CatBoostRegressor(\n",
    "    iterations=1700,\n",
    "    random_state=42,\n",
    "    cat_features=cat_cols,\n",
    "    verbose=False,\n",
    "    loss_function='RMSE',\n",
    "    eval_metric='RMSE',\n",
    "    task_type='GPU',\n",
    "    devices='0:1',\n",
    ")\n",
    "catboost_base.fit(\n",
    "    X_train, y_train,\n",
    "    plot=True\n",
    ")"
   ]
  },
  {
   "cell_type": "code",
   "execution_count": 26,
   "metadata": {},
   "outputs": [
    {
     "data": {
      "text/html": [
       "<div>\n",
       "<style scoped>\n",
       "    .dataframe tbody tr th:only-of-type {\n",
       "        vertical-align: middle;\n",
       "    }\n",
       "\n",
       "    .dataframe tbody tr th {\n",
       "        vertical-align: top;\n",
       "    }\n",
       "\n",
       "    .dataframe thead th {\n",
       "        text-align: right;\n",
       "    }\n",
       "</style>\n",
       "<table border=\"1\" class=\"dataframe\">\n",
       "  <thead>\n",
       "    <tr style=\"text-align: right;\">\n",
       "      <th></th>\n",
       "      <th>feature</th>\n",
       "      <th>importance</th>\n",
       "      <th>rank</th>\n",
       "    </tr>\n",
       "  </thead>\n",
       "  <tbody>\n",
       "    <tr>\n",
       "      <th>0</th>\n",
       "      <td>lat</td>\n",
       "      <td>None</td>\n",
       "      <td>NaN</td>\n",
       "    </tr>\n",
       "    <tr>\n",
       "      <th>1</th>\n",
       "      <td>lon</td>\n",
       "      <td>None</td>\n",
       "      <td>NaN</td>\n",
       "    </tr>\n",
       "    <tr>\n",
       "      <th>2</th>\n",
       "      <td>contest_pevpr_sfc_gauss_14d__pevpr</td>\n",
       "      <td>None</td>\n",
       "      <td>NaN</td>\n",
       "    </tr>\n",
       "    <tr>\n",
       "      <th>3</th>\n",
       "      <td>nmme0_tmp2m_34w__cancm30</td>\n",
       "      <td>None</td>\n",
       "      <td>NaN</td>\n",
       "    </tr>\n",
       "    <tr>\n",
       "      <th>4</th>\n",
       "      <td>nmme0_tmp2m_34w__cancm40</td>\n",
       "      <td>None</td>\n",
       "      <td>NaN</td>\n",
       "    </tr>\n",
       "    <tr>\n",
       "      <th>5</th>\n",
       "      <td>nmme0_tmp2m_34w__ccsm30</td>\n",
       "      <td>None</td>\n",
       "      <td>NaN</td>\n",
       "    </tr>\n",
       "    <tr>\n",
       "      <th>6</th>\n",
       "      <td>nmme0_tmp2m_34w__ccsm40</td>\n",
       "      <td>None</td>\n",
       "      <td>NaN</td>\n",
       "    </tr>\n",
       "    <tr>\n",
       "      <th>7</th>\n",
       "      <td>nmme0_tmp2m_34w__cfsv20</td>\n",
       "      <td>None</td>\n",
       "      <td>NaN</td>\n",
       "    </tr>\n",
       "    <tr>\n",
       "      <th>8</th>\n",
       "      <td>nmme0_tmp2m_34w__gfdlflora0</td>\n",
       "      <td>None</td>\n",
       "      <td>NaN</td>\n",
       "    </tr>\n",
       "    <tr>\n",
       "      <th>9</th>\n",
       "      <td>nmme0_tmp2m_34w__gfdlflorb0</td>\n",
       "      <td>None</td>\n",
       "      <td>NaN</td>\n",
       "    </tr>\n",
       "  </tbody>\n",
       "</table>\n",
       "</div>"
      ],
      "text/plain": [
       "                              feature importance  rank\n",
       "0                                 lat       None   NaN\n",
       "1                                 lon       None   NaN\n",
       "2  contest_pevpr_sfc_gauss_14d__pevpr       None   NaN\n",
       "3            nmme0_tmp2m_34w__cancm30       None   NaN\n",
       "4            nmme0_tmp2m_34w__cancm40       None   NaN\n",
       "5             nmme0_tmp2m_34w__ccsm30       None   NaN\n",
       "6             nmme0_tmp2m_34w__ccsm40       None   NaN\n",
       "7             nmme0_tmp2m_34w__cfsv20       None   NaN\n",
       "8         nmme0_tmp2m_34w__gfdlflora0       None   NaN\n",
       "9         nmme0_tmp2m_34w__gfdlflorb0       None   NaN"
      ]
     },
     "execution_count": 26,
     "metadata": {},
     "output_type": "execute_result"
    }
   ],
   "source": [
    "feature_importances = pd.DataFrame({\n",
    "    'feature': X_train.columns,\n",
    "    'importance': catboost_base.feature_importances_\n",
    "})\n",
    "feature_importances['rank'] = feature_importances['importance'].rank(ascending=False)\n",
    "feature_importances.sort_values('rank', inplace=True)\n",
    "feature_importances[feature_importances['feature'].isin(cat_cols)]"
   ]
  },
  {
   "cell_type": "code",
   "execution_count": null,
   "metadata": {},
   "outputs": [],
   "source": [
    "submit_index = pd.read_csv(path_to_data + 'submit_index.csv')['index']\n",
    "submit = pd.DataFrame({\n",
    "  'contest-tmp2m-14d__tmp2m': catboost_base.predict(df_submit),\n",
    "  'index':submit_index\n",
    "})\n",
    "submit.to_csv('submit.csv', index=False)"
   ]
  },
  {
   "cell_type": "code",
   "execution_count": null,
   "metadata": {},
   "outputs": [],
   "source": [
    "X_train_xgb = X_train.copy()\n",
    "target_encoder = TargetEncoder(cols=cat_cols)\n",
    "X_train_xgb[cat_cols] = target_encoder.fit_transform(X_train_xgb[cat_cols], y_train)\n",
    "xgboost_base = XGBRegressor(\n",
    "    random_state=42,\n",
    "    tree_method='gpu_hist',\n",
    "    gpu_id=0,\n",
    "    verbosity=0,\n",
    "    objective='reg:squarederror',\n",
    ")\n",
    "xgboost_base.fit(X_train_xgb, y_train)"
   ]
  },
  {
   "cell_type": "code",
   "execution_count": null,
   "metadata": {},
   "outputs": [],
   "source": [
    "X_train_lgbm = X_train.copy()\n",
    "X_train_lgbm[cat_cols] = X_train_lgbm[cat_cols].astype('category')\n",
    "lgbm_base = LGBMRegressor(\n",
    "    random_state=42,\n",
    "    device='gpu',\n",
    "    gpu_platform_id=0,\n",
    "    gpu_device_id=0,\n",
    "    verbosity=-1,\n",
    "    objective='regression',\n",
    ")\n",
    "lgbm_base.fit(X_train_lgbm, y_train)"
   ]
  },
  {
   "cell_type": "code",
   "execution_count": null,
   "metadata": {},
   "outputs": [],
   "source": [
    "y_preds_catboost = catboost_base.predict(X_train)\n",
    "y_preds_xgboost = xgboost_base.predict(X_train_xgb)\n",
    "y_preds_lgbm = lgbm_base.predict(X_train_lgbm)"
   ]
  },
  {
   "cell_type": "code",
   "execution_count": null,
   "metadata": {},
   "outputs": [],
   "source": [
    "combine_df = pd.DataFrame({\n",
    "    'catboost': y_preds_catboost,\n",
    "    'xgboost': y_preds_xgboost,\n",
    "    'lgbm': y_preds_lgbm,\n",
    "})\n",
    "\n",
    "lr_model = LinearRegression()\n",
    "lr_model.fit(combine_df, y_train)"
   ]
  },
  {
   "cell_type": "code",
   "execution_count": null,
   "metadata": {},
   "outputs": [],
   "source": [
    "def get_submit():\n",
    "  y_submit_catboost = catboost_base.predict(df_submit)\n",
    "\n",
    "  df_submit_xgb = df_submit.copy()\n",
    "  df_submit_xgb[cat_cols] = target_encoder.transform(df_submit_xgb[cat_cols])\n",
    "  y_submit_xgboost = xgboost_base.predict(df_submit_xgb)\n",
    "\n",
    "  df_submit_lgbm = df_submit.copy()\n",
    "  df_submit_lgbm[cat_cols] = df_submit_lgbm[cat_cols].astype('category')\n",
    "  y_submit_lgbm = lgbm_base.predict(df_submit_lgbm)\n",
    "\n",
    "  combine_df_submit = pd.DataFrame({\n",
    "      'catboost': y_submit_catboost,\n",
    "      'xgboost': y_submit_xgboost,\n",
    "      'lgbm': y_submit_lgbm,\n",
    "  })\n",
    "\n",
    "  y_submit = lr_model.predict(combine_df_submit)\n",
    "  return y_submit"
   ]
  }
 ],
 "metadata": {
  "kernelspec": {
   "display_name": "Python 3",
   "language": "python",
   "name": "python3"
  },
  "language_info": {
   "codemirror_mode": {
    "name": "ipython",
    "version": 3
   },
   "file_extension": ".py",
   "mimetype": "text/x-python",
   "name": "python",
   "nbconvert_exporter": "python",
   "pygments_lexer": "ipython3",
   "version": "3.10.7"
  },
  "orig_nbformat": 4,
  "vscode": {
   "interpreter": {
    "hash": "7e1998ff7f8aa20ada591c520b972326324e5ea05489af9e422744c7c09f6dad"
   }
  }
 },
 "nbformat": 4,
 "nbformat_minor": 2
}
