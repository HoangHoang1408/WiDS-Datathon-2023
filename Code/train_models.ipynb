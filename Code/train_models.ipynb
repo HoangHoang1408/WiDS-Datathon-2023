{
 "cells": [
  {
   "cell_type": "code",
   "execution_count": null,
   "metadata": {},
   "outputs": [],
   "source": [
    "import numpy as np\n",
    "import pandas as pd\n",
    "import matplotlib.pyplot as plt\n",
    "import seaborn as sns\n",
    "sns.set()\n",
    "pd.options.display.max_columns = None\n",
    "\n",
    "from sklearn.model_selection import GridSearchCV, RandomizedSearchCV, train_test_split, PredefinedSplit\n",
    "from sklearn.metrics import mean_squared_error\n",
    "from sklearn.decomposition import PCA\n",
    "\n",
    "from category_encoders import TargetEncoder\n",
    "\n",
    "# models\n",
    "from xgboost import XGBRegressor\n",
    "from sklearn.ensemble import RandomForestRegressor, ExtraTreesRegressor\n",
    "\n",
    "from hyperopt import hp, fmin, tpe, Trials, STATUS_OK, space_eval"
   ]
  },
  {
   "cell_type": "code",
   "execution_count": null,
   "metadata": {},
   "outputs": [],
   "source": [
    "inlocal = True\n",
    "if inlocal:\n",
    "  path_to_data = '../Data/created/'\n",
    "else:\n",
    "  from google.colab import drive\n",
    "  drive.mount('/content/drive')\n",
    "  path_to_data = '/content/drive/My Drive/WiDS 2023/data/'"
   ]
  },
  {
   "cell_type": "code",
   "execution_count": null,
   "metadata": {},
   "outputs": [],
   "source": [
    "# constants\n",
    "target = 'contest_tmp2m_14d__tmp2m'\n",
    "climateregions__climateregion = 'climateregions__climateregion'"
   ]
  },
  {
   "cell_type": "code",
   "execution_count": null,
   "metadata": {},
   "outputs": [],
   "source": [
    "# load train, val, test and submit data\n",
    "train = pd.read_csv(path_to_data + 'train.csv')\n",
    "val = pd.read_csv(path_to_data + 'val.csv')\n",
    "test = pd.read_csv(path_to_data + 'test.csv')\n",
    "train_sample = pd.read_csv(path_to_data + 'train_sample.csv')\n",
    "\n",
    "X_train, y_train = train.drop(target, axis=1), train[target]\n",
    "X_train_sample, y_train_sample = train_sample.drop(target, axis=1), train_sample[target]\n",
    "X_val, y_val = val.drop(target, axis=1), val[target]\n",
    "X_test, y_test = test.drop(target, axis=1), test[target]\n",
    "X_submit = pd.read_csv(path_to_data + 'submit.csv')"
   ]
  },
  {
   "cell_type": "code",
   "execution_count": null,
   "metadata": {},
   "outputs": [],
   "source": [
    "# target encoding categorical features\n",
    "cat_encoder = TargetEncoder()\n",
    "X_train[climateregions__climateregion] = cat_encoder.fit_transform(X_train[climateregions__climateregion], y_train)\n",
    "\n",
    "for X_set in (X_val, X_test, X_submit, X_train_sample):\n",
    "    X_set[climateregions__climateregion] = cat_encoder.transform(X_set[climateregions__climateregion])"
   ]
  },
  {
   "attachments": {},
   "cell_type": "markdown",
   "metadata": {},
   "source": [
    "## Train XGBoost"
   ]
  },
  {
   "cell_type": "code",
   "execution_count": null,
   "metadata": {},
   "outputs": [],
   "source": [
    "# baseline model\n",
    "xgb_baseline = XGBRegressor(\n",
    "  random_state=42,\n",
    "  n_jobs=-1,\n",
    ")\n",
    "xgb_baseline.fit(X_train, y_train)\n",
    "y_pred = xgb_baseline.predict(X_val)\n",
    "print('baseline model RMSE:', mean_squared_error(y_val, y_pred, squared=False))"
   ]
  },
  {
   "cell_type": "code",
   "execution_count": null,
   "metadata": {},
   "outputs": [],
   "source": [
    "y_pred = xgb_baseline.predict(X_test)\n",
    "print('baseline model RMSE:', mean_squared_error(y_test, y_pred, squared=False))"
   ]
  },
  {
   "cell_type": "code",
   "execution_count": null,
   "metadata": {},
   "outputs": [],
   "source": [
    "# define search space\n",
    "space = {\n",
    "    'n_estimators': hp.choice('n_estimators', [100, 200, 300, 400, 600]),\n",
    "    'max_depth': hp.choice('max_depth', [1, 2, 3, 5, 7, 9, 11, 13]),\n",
    "    'learning_rate': hp.loguniform('learning_rate', np.log(0.01), np.log(0.2)),\n",
    "    'subsample': hp.uniform('subsample', 0.5, 1.0),\n",
    "    'colsample_bytree': hp.uniform('colsample_bytree', 0.5, 1.0),\n",
    "    'colsample_bylevel': hp.uniform('colsample_bylevel', 0.5, 1.0),\n",
    "    'reg_alpha': hp.uniform('reg_alpha', 0.0, 1.0),\n",
    "    'reg_lambda': hp.uniform('reg_lambda', 0.0, 1.0),\n",
    "    'gamma': hp.uniform('gamma', 0.0, 1.0),\n",
    "    'min_child_weight': hp.uniform('min_child_weight', 0.0, 1.0),\n",
    "}\n",
    "\n",
    "# define objective function\n",
    "def objective(space):\n",
    "    model = XGBRegressor(\n",
    "        objective='reg:squarederror',\n",
    "        tree_method='gpu_hist',\n",
    "        gpu_id=0,\n",
    "        n_estimators=space['n_estimators'],\n",
    "        max_depth=space['max_depth'],\n",
    "        learning_rate=space['learning_rate'],\n",
    "        subsample=space['subsample'],\n",
    "        colsample_bytree=space['colsample_bytree'],\n",
    "        colsample_bylevel=space['colsample_bylevel'],\n",
    "        reg_alpha=space['reg_alpha'],\n",
    "        reg_lambda=space['reg_lambda'],\n",
    "        gamma=space['gamma'],\n",
    "        min_child_weight=space['min_child_weight'],\n",
    "        random_state=42,\n",
    "        n_jobs=-1,\n",
    "        eval_metric='rmse',\n",
    "        early_stopping_rounds=10,\n",
    "        verbose=0,\n",
    "    )\n",
    "\n",
    "    model.fit(\n",
    "      X_train_sample, y_train_sample,\n",
    "      eval_set=[(X_val, y_val)],\n",
    "    )\n",
    "\n",
    "    y_pred = model.predict(X_val)\n",
    "    rmse = mean_squared_error(y_val, y_pred, squared=False)\n",
    "\n",
    "    return {'loss': rmse, 'status': STATUS_OK}"
   ]
  },
  {
   "cell_type": "code",
   "execution_count": null,
   "metadata": {},
   "outputs": [],
   "source": [
    "trials = Trials()\n",
    "best = fmin(\n",
    "    fn=objective,\n",
    "    space=space,\n",
    "    algo=tpe.suggest,\n",
    "    max_evals=1,\n",
    "    trials=trials,\n",
    "    rstate=np.random.RandomState(42),\n",
    ")"
   ]
  },
  {
   "cell_type": "code",
   "execution_count": null,
   "metadata": {},
   "outputs": [],
   "source": [
    "# train model with best hyperparameters\n",
    "best_params = space_eval(space, best)\n",
    "model = XGBRegressor(\n",
    "    objective='reg:squarederror',\n",
    "    tree_method='gpu_hist',\n",
    "    gpu_id=0,\n",
    "    n_estimators=best_params['n_estimators'],\n",
    "    max_depth=best_params['max_depth'],\n",
    "    learning_rate=best_params['learning_rate'],\n",
    "    subsample=best_params['subsample'],\n",
    "    colsample_bytree=best_params['colsample_bytree'],\n",
    "    colsample_bylevel=best_params['colsample_bylevel'],\n",
    "    reg_alpha=best_params['reg_alpha'],\n",
    "    reg_lambda=best_params['reg_lambda'],\n",
    "    gamma=best_params['gamma'],\n",
    "    min_child_weight=best_params['min_child_weight'],\n",
    "    random_state=42,\n",
    "    n_jobs=-1,\n",
    ")\n",
    "model.fit(X_train, y_train)"
   ]
  },
  {
   "cell_type": "code",
   "execution_count": null,
   "metadata": {},
   "outputs": [],
   "source": [
    "y_test_pred = model.predict(X_test)\n",
    "print('test RMSE:', mean_squared_error(y_test, y_test_pred, squared=False))"
   ]
  },
  {
   "cell_type": "code",
   "execution_count": 38,
   "metadata": {},
   "outputs": [],
   "source": [
    "def take_submission(model, X_submit, submit_index, path_to_data, filename):\n",
    "    y_submit_pred = model.predict(X_submit)\n",
    "    submit = pd.DataFrame({\n",
    "      'contest-tmp2m-14d__tmp2m': y_submit_pred,\n",
    "      'index':submit_index\n",
    "    })\n",
    "    submit.to_csv(path_to_data + filename + '.csv')"
   ]
  },
  {
   "cell_type": "code",
   "execution_count": 36,
   "metadata": {},
   "outputs": [],
   "source": [
    "def get_top_trails(trials, n=10):\n",
    "    results = list(map(lambda trial: {\n",
    "        'loss': trial['result']['loss'],\n",
    "        'params': trial['misc']['vals'],\n",
    "    }, trials.trials))\n",
    "    results.sort(key=lambda x: x['loss'])\n",
    "    return results[:n]"
   ]
  },
  {
   "cell_type": "code",
   "execution_count": 35,
   "metadata": {},
   "outputs": [
    {
     "data": {
      "text/plain": [
       "[{'state': 1,\n",
       "  'tid': 0,\n",
       "  'spec': None,\n",
       "  'result': {'status': 'new'},\n",
       "  'misc': {'tid': 0,\n",
       "   'cmd': ('domain_attachment', 'FMinIter_Domain'),\n",
       "   'workdir': None,\n",
       "   'idxs': {'colsample_bylevel': [0],\n",
       "    'colsample_bytree': [0],\n",
       "    'gamma': [0],\n",
       "    'learning_rate': [0],\n",
       "    'max_depth': [0],\n",
       "    'min_child_weight': [0],\n",
       "    'n_estimators': [0],\n",
       "    'reg_alpha': [0],\n",
       "    'reg_lambda': [0],\n",
       "    'subsample': [0]},\n",
       "   'vals': {'colsample_bylevel': [0.7420924529192455],\n",
       "    'colsample_bytree': [0.6619995178577169],\n",
       "    'gamma': [0.7155584591130996],\n",
       "    'learning_rate': [0.014726206460487596],\n",
       "    'max_depth': [5],\n",
       "    'min_child_weight': [0.767856397765376],\n",
       "    'n_estimators': [1],\n",
       "    'reg_alpha': [0.8839266254726155],\n",
       "    'reg_lambda': [0.620118997676641],\n",
       "    'subsample': [0.9068277038201439]}},\n",
       "  'exp_key': None,\n",
       "  'owner': None,\n",
       "  'version': 0,\n",
       "  'book_time': datetime.datetime(2023, 1, 15, 14, 3, 44, 896000),\n",
       "  'refresh_time': datetime.datetime(2023, 1, 15, 14, 3, 44, 896000)}]"
      ]
     },
     "execution_count": 35,
     "metadata": {},
     "output_type": "execute_result"
    }
   ],
   "source": []
  },
  {
   "cell_type": "code",
   "execution_count": null,
   "metadata": {},
   "outputs": [],
   "source": [
    "submit_index = X_submit['index']\n",
    "y_pred = model.predict(X_submit.drop('index', axis=1))\n",
    "submit = pd.DataFrame({\n",
    "  'contest-tmp2m-14d__tmp2m': y_pred,\n",
    "  'index':submit_index\n",
    "})"
   ]
  }
 ],
 "metadata": {
  "kernelspec": {
   "display_name": "Python 3",
   "language": "python",
   "name": "python3"
  },
  "language_info": {
   "codemirror_mode": {
    "name": "ipython",
    "version": 3
   },
   "file_extension": ".py",
   "mimetype": "text/x-python",
   "name": "python",
   "nbconvert_exporter": "python",
   "pygments_lexer": "ipython3",
   "version": "3.10.7"
  },
  "orig_nbformat": 4,
  "vscode": {
   "interpreter": {
    "hash": "7e1998ff7f8aa20ada591c520b972326324e5ea05489af9e422744c7c09f6dad"
   }
  }
 },
 "nbformat": 4,
 "nbformat_minor": 2
}
