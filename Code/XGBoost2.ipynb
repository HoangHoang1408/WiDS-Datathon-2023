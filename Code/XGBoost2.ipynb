{
 "cells": [
  {
   "cell_type": "code",
   "execution_count": 1,
   "metadata": {},
   "outputs": [],
   "source": [
    "import numpy as np\n",
    "import pandas as pd\n",
    "import matplotlib.pyplot as plt\n",
    "from matplotlib import rcParams\n",
    "import seaborn as sns\n",
    "import warnings\n",
    "\n",
    "sns.set()\n",
    "rcParams['figure.figsize'] = (20,10)\n",
    "warnings.filterwarnings('ignore')"
   ]
  },
  {
   "cell_type": "code",
   "execution_count": 2,
   "metadata": {},
   "outputs": [],
   "source": [
    "inlocal = True\n",
    "if inlocal:\n",
    "  path_to_data = '../Data/created2/'\n",
    "else:\n",
    "  from google.colab import drive\n",
    "  from google.colab import output\n",
    "  output.enable_custom_widget_manager()\n",
    "  drive.mount('/content/drive')\n",
    "  path_to_data = '/content/drive/My Drive/WiDS 2023/data/'\n",
    "\n",
    "df_train = pd.read_csv(path_to_data + 'train_processed.csv')\n",
    "df_submit = pd.read_csv(path_to_data + 'test_processed.csv')"
   ]
  },
  {
   "cell_type": "code",
   "execution_count": 3,
   "metadata": {},
   "outputs": [
    {
     "data": {
      "text/plain": [
       "((312512, 249), (63222, 249), (31354, 248))"
      ]
     },
     "execution_count": 3,
     "metadata": {},
     "output_type": "execute_result"
    }
   ],
   "source": [
    "train = df_train[df_train['startdate'] < '2016-05-01'].copy()\n",
    "valid = df_train[(df_train['startdate'] >= '2016-05-01')].copy()\n",
    "X_submit = df_submit.copy()\n",
    "\n",
    "train.drop(columns=['startdate','day'], inplace=True)\n",
    "valid.drop(columns=['startdate','day'], inplace=True)\n",
    "X_submit.drop(columns=['startdate','day'], inplace=True)\n",
    "\n",
    "train.shape, valid.shape, X_submit.shape"
   ]
  },
  {
   "cell_type": "code",
   "execution_count": null,
   "metadata": {},
   "outputs": [],
   "source": [
    "target = 'contest_tmp2m_14d__tmp2m'\n",
    "\n",
    "X_train, y_train = train.drop(columns=[target]), train[target]\n",
    "X_valid, y_valid = valid.drop(columns=[target]), valid[target]\n",
    "X_submit = X_submit"
   ]
  }
 ],
 "metadata": {
  "kernelspec": {
   "display_name": "Python 3",
   "language": "python",
   "name": "python3"
  },
  "language_info": {
   "codemirror_mode": {
    "name": "ipython",
    "version": 3
   },
   "file_extension": ".py",
   "mimetype": "text/x-python",
   "name": "python",
   "nbconvert_exporter": "python",
   "pygments_lexer": "ipython3",
   "version": "3.10.7"
  },
  "orig_nbformat": 4,
  "vscode": {
   "interpreter": {
    "hash": "7e1998ff7f8aa20ada591c520b972326324e5ea05489af9e422744c7c09f6dad"
   }
  }
 },
 "nbformat": 4,
 "nbformat_minor": 2
}
